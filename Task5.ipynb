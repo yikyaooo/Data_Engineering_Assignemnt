{
 "cells": [
  {
   "cell_type": "code",
   "execution_count": 1,
   "id": "f35f6664-97ad-431f-85cf-3d54b63cff76",
   "metadata": {},
   "outputs": [],
   "source": [
    "from pyspark.sql import SparkSession\n",
    "from pyspark.sql.functions import to_timestamp\n",
    "from pyspark.ml import PipelineModel\n",
    "from pyspark.ml.tuning import CrossValidatorModel\n",
    "from pyspark.ml.feature import IndexToString\n",
    "from classes.NewsLoader import NewsLoader\n",
    "from classes.TextPreprocessing import TextPreprocessing\n",
    "from classes.NewsGraph import NewsGraph"
   ]
  },
  {
   "cell_type": "code",
   "execution_count": 2,
   "id": "ec70555a-cb15-4504-9772-27442c71fdc7",
   "metadata": {},
   "outputs": [],
   "source": [
    
   ]
  },
  {
   "cell_type": "code",
   "execution_count": 3,
   "id": "0c029c76-0006-4a42-8c0d-fbe9156ead65",
   "metadata": {},
   "outputs": [],
   "source": [
    "ng = NewsGraph( NEO4J_URI, NEO4J_USERNAME, NEO4J_PASSWORD)"
   ]
  },
  {
   "cell_type": "code",
   "execution_count": 4,
   "id": "bf050422-cce1-4040-abed-43bfb3132b78",
   "metadata": {},
   "outputs": [
    {
     "name": "stdout",
     "output_type": "stream",
     "text": [
      "✅ Connection successful!\n"
     ]
    }
   ],
   "source": [
    "ng.verify_connection()"
   ]
  },
  {
   "cell_type": "code",
   "execution_count": 5,
   "id": "9bfcbf4e-95c5-4f24-9186-b69a6a7b4018",
   "metadata": {
    "scrolled": true
   },
   "outputs": [
    {
     "name": "stderr",
     "output_type": "stream",
     "text": [
      "25/04/17 09:57:27 WARN Utils: Your hostname, Macpad5Pro. resolves to a loopback address: 127.0.1.1; using 10.255.255.254 instead (on interface lo)\n",
      "25/04/17 09:57:27 WARN Utils: Set SPARK_LOCAL_IP if you need to bind to another address\n",
      "Setting default log level to \"WARN\".\n",
      "To adjust logging level use sc.setLogLevel(newLevel). For SparkR, use setLogLevel(newLevel).\n",
      "25/04/17 09:57:28 WARN NativeCodeLoader: Unable to load native-hadoop library for your platform... using builtin-java classes where applicable\n",
      "25/04/17 09:57:30 WARN Utils: Service 'SparkUI' could not bind on port 4040. Attempting port 4041.\n"
     ]
    }
   ],
   "source": [
    "spark = SparkSession.builder \\\n",
    "    .appName(\"Neo4j\") \\\n",
    "    .getOrCreate()"
   ]
  },
  {
   "cell_type": "code",
   "execution_count": 6,
   "id": "8600fe3b-06e8-4115-8114-fe3f9e15776c",
   "metadata": {},
   "outputs": [
    {
     "name": "stderr",
     "output_type": "stream",
     "text": [
      "                                                                                \r"
     ]
    }
   ],
   "source": [
    "preprocessing_path = \"/user/student/preprocessingPipeline\"\n",
    "preprocess = PipelineModel.load(preprocessing_path)"
   ]
  },
  {
   "cell_type": "code",
   "execution_count": 7,
   "id": "083e1ce7-ce79-41fe-b043-1ff83f5732ac",
   "metadata": {},
   "outputs": [],
   "source": [
    "model_path = \"/user/student/LinearSvc\"\n",
    "cv_model = CrossValidatorModel.load(model_path)\n",
    "model = cv_model.bestModel"
   ]
  },
  {
   "cell_type": "code",
   "execution_count": 8,
   "id": "bbec316d-a60b-4640-8664-cb2dd87f4005",
   "metadata": {
    "scrolled": true
   },
   "outputs": [
    {
     "name": "stdout",
     "output_type": "stream",
     "text": [
      "+--------------------+--------+--------------------+------------------+-------------------+-------+-----------+--------------------+--------------------+\n",
      "|                body|keywords|                link|          location|       publish_time|section|sub_section|             summary|               title|\n",
      "+--------------------+--------+--------------------+------------------+-------------------+-------+-----------+--------------------+--------------------+\n",
      "|IPOH: A family of...|      []|https://www.thest...|              IPOH|2025-03-31 20:44:00|   News|     Nation|IPOH: A family of...|Family of seven s...|\n",
      "|KUALA LUMPUR: The...|      []|https://www.thest...|      KUALA LUMPUR|2025-03-31 19:59:00|   News|     Nation|KUALA LUMPUR: The...|Myanmar quake: SM...|\n",
      "|BALING: A sombre ...|      []|https://www.thest...|            BALING|2025-03-31 19:24:00|   News|     Nation|BALING: A sombre ...|Missing autistic ...|\n",
      "|JOHOR BARU (The S...|      []|https://www.thest...|Location not found|2025-03-31 19:11:00|   News|     Nation|JOHOR BARU (The S...|Singapore ministe...|\n",
      "|JOHOR BARU: A man...|      []|https://www.thest...|        JOHOR BARU|2025-03-31 18:25:00|   News|     Nation|JOHOR BARU: A man...|Man killed in col...|\n",
      "|GEORGE TOWN: A ca...|      []|https://www.thest...|       GEORGE TOWN|2025-03-31 18:06:00|   News|     Nation|GEORGE TOWN: A ca...|Car thief who fle...|\n",
      "|KUALA LUMPUR: The...|      []|https://www.thest...|      KUALA LUMPUR|2025-03-31 17:55:00|   News|     Nation|KUALA LUMPUR: The...|Report on fatal T...|\n",
      "|IPOH: About 20,00...|      []|https://www.thest...|              IPOH|2025-03-31 16:59:00|   News|     Nation|IPOH: About 20,00...|Thousands throng ...|\n",
      "|PETALING JAYA: Wi...|      []|https://www.thest...|     PETALING JAYA|2025-03-31 16:43:00|   News|     Nation|PETALING JAYA: Wi...|Harmony in divers...|\n",
      "|KUALA LUMPUR: The...|      []|https://www.thest...|      KUALA LUMPUR|2025-03-31 16:40:00|   News|     Nation|KUALA LUMPUR: The...|Father thanks Mal...|\n",
      "|KUALA LUMPUR: Hea...|      []|https://www.thest...|      KUALA LUMPUR|2025-03-30 23:43:00|   News|     Nation|KUALA LUMPUR: Hea...|State govt heads ...|\n",
      "|KUALA LUMPUR: The...|      []|https://www.thest...|      KUALA LUMPUR|2025-03-30 22:30:00|   News|     Nation|KUALA LUMPUR: The...|Uphold unity, har...|\n",
      "|KOTA KINABALU: A ...|      []|https://www.thest...|     KOTA KINABALU|2025-03-30 21:46:00|   News|     Nation|KOTA KINABALU: A ...|Teen drowns at Mo...|\n",
      "|PETALING JAYA: In...|      []|https://www.thest...|     PETALING JAYA|2025-03-30 21:28:00|   News|     Nation|PETALING JAYA: In...|Promote unity, fo...|\n",
      "|PETALING JAYA: It...|      []|https://www.thest...|     PETALING JAYA|2025-03-30 21:20:00|   News|     Nation|PETALING JAYA: It...|Stability, peace ...|\n",
      "|IPOH: A total of ...|      []|https://www.thest...|              IPOH|2025-03-30 21:12:00|   News|     Nation|IPOH: A total of ...|Accident rate ris...|\n",
      "|SIBU: Director of...|      []|https://www.thest...|              SIBU|2025-03-30 20:48:00|   News|     Nation|SIBU: Director of...|Director of Sabah...|\n",
      "|SEREMBAN: Asean w...|      []|https://www.thest...|          SEREMBAN|2025-03-30 20:48:00|   News|     Nation|SEREMBAN: Asean w...|Asean to deploy e...|\n",
      "|KUALA LUMPUR: Mus...|      []|https://www.thest...|      KUALA LUMPUR|2025-03-30 20:03:00|   News|     Nation|KUALA LUMPUR: Mus...|Muslims in Malays...|\n",
      "|KUALA LUMPUR: The...|      []|https://www.thest...|      KUALA LUMPUR|2025-03-30 19:59:00|   News|     Nation|KUALA LUMPUR: The...|SMART, Nadma SAR ...|\n",
      "+--------------------+--------+--------------------+------------------+-------------------+-------+-----------+--------------------+--------------------+\n",
      "only showing top 20 rows\n",
      "\n"
     ]
    }
   ],
   "source": [
    "loader = NewsLoader(\"raw_data/news1.json\")\n",
    "df = loader.load_data(spark)\n",
    "df.show()"
   ]
  },
  {
   "cell_type": "code",
   "execution_count": 9,
   "id": "81c61422-db5c-4424-962f-a0131444ae4a",
   "metadata": {},
   "outputs": [],
   "source": [
    "tp = TextPreprocessing()"
   ]
  },
  {
   "cell_type": "code",
   "execution_count": 10,
   "id": "69a2c9f7-ece9-4411-bbab-c6da0d422ace",
   "metadata": {},
   "outputs": [],
   "source": [
    "df = tp.remove_duplicate(df)"
   ]
  },
  {
   "cell_type": "code",
   "execution_count": 11,
   "id": "104d80bd-1b16-4eb4-90d9-faa265df8fc1",
   "metadata": {},
   "outputs": [],
   "source": [
    "df = tp.lowercase(df, \"summary\")"
   ]
  },
  {
   "cell_type": "code",
   "execution_count": 12,
   "id": "7f3ff6dd-0f0f-403f-920f-781c286fac97",
   "metadata": {},
   "outputs": [],
   "source": [
    "df = tp.remove_special(df, \"summary\")\n"
   ]
  },
  {
   "cell_type": "code",
   "execution_count": 13,
   "id": "e2045868-477a-4718-bf2b-e4b92f1a57af",
   "metadata": {},
   "outputs": [],
   "source": [
    "df = preprocess.transform(df)"
   ]
  },
  {
   "cell_type": "code",
   "execution_count": 14,
   "id": "5b6bf887-580f-4a62-a208-b37a9fca605a",
   "metadata": {},
   "outputs": [],
   "source": [
    "df = model.transform(df)"
   ]
  },
  {
   "cell_type": "code",
   "execution_count": 15,
   "id": "2f11a036-acbb-414f-a3ac-cacfe3064902",
   "metadata": {},
   "outputs": [],
   "source": [
    "label_indexer_model = preprocess.stages[0]  # Assuming it's the first stage\n",
    "labels = label_indexer_model.labels\n",
    "\n",
    "label_reverse = IndexToString(inputCol=\"prediction\", outputCol=\"predicted_label\", labels=labels)\n",
    "df = label_reverse.transform(df)\n"
   ]
  },
  {
   "cell_type": "code",
   "execution_count": 16,
   "id": "8f70d82f-9acd-4b9e-a626-4169c23b2b32",
   "metadata": {},
   "outputs": [],
   "source": [
    "df = df.withColumn(\"publish_time_ts\", to_timestamp(\"publish_time\", \"yyyy-MM-dd HH:mm:ss\"))"
   ]
  },
  {
   "cell_type": "code",
   "execution_count": 17,
   "id": "8b77ced6-1c1e-44aa-a56c-cf8c571b1029",
   "metadata": {
    "scrolled": true
   },
   "outputs": [
    {
     "name": "stderr",
     "output_type": "stream",
     "text": [
      "[Stage 44:>                                                         (0 + 1) / 1]\r"
     ]
    },
    {
     "name": "stdout",
     "output_type": "stream",
     "text": [
      "+--------------------+--------+--------------------+------------------+-------------------+-------+-----------+--------------------+--------------------+--------------------+--------------------+--------------------+--------------------+--------------------+----------+---------------+-------------------+\n",
      "|                body|keywords|                link|          location|       publish_time|section|sub_section|             summary|               title|               words|      filtered_words|        raw_features|            features|       rawPrediction|prediction|predicted_label|    publish_time_ts|\n",
      "+--------------------+--------+--------------------+------------------+-------------------+-------+-----------+--------------------+--------------------+--------------------+--------------------+--------------------+--------------------+--------------------+----------+---------------+-------------------+\n",
      "|JAKARTA: China ha...|      []|https://www.thest...|           JAKARTA|2025-03-21 21:17:00|   News|     Nation|jakarta china has...|China backs Malay...|[jakarta, china, ...|[jakarta, china, ...|(262144,[45092,55...|(262144,[45092,55...|[3.43768979025598...|       0.0|       positive|2025-03-21 21:17:00|\n",
      "|KOTA BARU: The Ag...|      []|https://www.thest...|         KOTA BARU|2025-03-13 21:42:00|   News|     Nation|kota baru the agr...|Sufficient supply...|[kota, baru, the,...|[kota, baru, agri...|(262144,[929,7453...|(262144,[929,7453...|[0.19511197300036...|       0.0|       positive|2025-03-13 21:42:00|\n",
      "|KUALA LUMPUR: Pol...|      []|https://www.thest...|      KUALA LUMPUR|2025-03-26 23:20:00|   News|     Nation|kuala lumpur poli...|Cops probing vide...|[kuala, lumpur, p...|[kuala, lumpur, p...|(262144,[3223,219...|(262144,[3223,219...|[2.73108062045535...|       0.0|       positive|2025-03-26 23:20:00|\n",
      "|KOTA KINABALU: A ...|      []|https://www.thest...|     KOTA KINABALU|2025-03-28 20:53:00|   News|     Nation|kota kinabalu a f...|Family heading ho...|[kota, kinabalu, ...|[kota, kinabalu, ...|(262144,[17893,35...|(262144,[17893,35...|[-2.5217849718457...|       1.0|       negative|2025-03-28 20:53:00|\n",
      "|KOTA KINABALU: La...|      []|https://www.thest...|     KOTA KINABALU|2025-03-22 21:04:00|   News|     Nation|kota kinabalu lab...|Woman claims male...|[kota, kinabalu, ...|[kota, kinabalu, ...|(262144,[44863,86...|(262144,[44863,86...|[-0.7991751841799...|       2.0|        neutral|2025-03-22 21:04:00|\n",
      "|KUALA LUMPUR: Tra...|      []|https://www.thest...|      KUALA LUMPUR|2025-03-28 23:34:00|   News|     Nation|kuala lumpur traf...|Raya rush: Traffi...|[kuala, lumpur, t...|[kuala, lumpur, t...|(262144,[14079,25...|(262144,[14079,25...|[1.37144814364733...|       0.0|       positive|2025-03-28 23:34:00|\n",
      "|KUALA LUMPUR: The...|      []|https://www.thest...|      KUALA LUMPUR|2025-03-31 19:59:00|   News|     Nation|kuala lumpur the ...|Myanmar quake: SM...|[kuala, lumpur, t...|[kuala, lumpur, s...|(262144,[20575,25...|(262144,[20575,25...|[-1.5321526759753...|       1.0|       negative|2025-03-31 19:59:00|\n",
      "|KUALA LUMPUR: Two...|      []|https://www.thest...|      KUALA LUMPUR|2025-03-21 22:41:00|   News|     Nation|kuala lumpur two ...|Two films blocked...|[kuala, lumpur, t...|[kuala, lumpur, t...|(262144,[3048,328...|(262144,[3048,328...|[-2.8987903133348...|       1.0|       negative|2025-03-21 22:41:00|\n",
      "|PETALING JAYA: Th...|      []|https://www.thest...|     PETALING JAYA|2025-03-21 19:59:00|   News|     Nation|petaling jaya the...|Flood situation w...|[petaling, jaya, ...|[petaling, jaya, ...|(262144,[16319,73...|(262144,[16319,73...|[-1.2839836371359...|       1.0|       negative|2025-03-21 19:59:00|\n",
      "|KUALA LUMPUR: The...|      []|https://www.thest...|      KUALA LUMPUR|2025-03-12 21:20:00|   News|     Nation|kuala lumpur the ...|MDH's investment ...|[kuala, lumpur, t...|[kuala, lumpur, r...|(262144,[12127,22...|(262144,[12127,22...|[-3.2348141156857...|       1.0|       negative|2025-03-12 21:20:00|\n",
      "|KUALA LUMPUR: Pol...|      []|https://www.thest...|      KUALA LUMPUR|2025-03-27 23:32:00|   News|     Nation|kuala lumpur poli...|Police identify 1...|[kuala, lumpur, p...|[kuala, lumpur, p...|(262144,[33901,35...|(262144,[33901,35...|[0.46230559921267...|       2.0|        neutral|2025-03-27 23:32:00|\n",
      "|KOTA BARU: Young ...|      []|https://www.thest...|         KOTA BARU|2025-03-22 20:12:00|   News|     Nation|kota baru young i...|IGP flags youngst...|[kota, baru, youn...|[kota, baru, youn...|(262144,[21937,23...|(262144,[21937,23...|[3.15384433322417...|       0.0|       positive|2025-03-22 20:12:00|\n",
      "|PETALING JAYA: Th...|      []|https://www.thest...|     PETALING JAYA|2025-03-28 20:02:00|   News|     Nation|petaling jaya the...|Myanmar quake: Ma...|[petaling, jaya, ...|[petaling, jaya, ...|(262144,[45108,64...|(262144,[45108,64...|[2.85838208994515...|       0.0|       positive|2025-03-28 20:02:00|\n",
      "|JOHOR BARU: The p...|      []|https://www.thest...|        JOHOR BARU|2025-03-22 20:23:00|   News|     Nation|johor baru the po...|Investigation on ...|[johor, baru, the...|[johor, baru, pol...|(262144,[28739,42...|(262144,[28739,42...|[-2.4289427722531...|       2.0|        neutral|2025-03-22 20:23:00|\n",
      "|HEBRON, West Bank...|      []|https://www.thest...|Location not found|2025-03-25 22:29:00|   News|      World|hebron west bank ...|Oscar-winning Pal...|[hebron, west, ba...|[hebron, west, ba...|(262144,[13981,29...|(262144,[13981,29...|[-1.3901433046047...|       1.0|       negative|2025-03-25 22:29:00|\n",
      "|KUALA LUMPUR: Sul...|      []|https://www.thest...|      KUALA LUMPUR|2025-03-20 22:10:00|   News|     Nation|kuala lumpur sult...|Selangor Sultan g...|[kuala, lumpur, s...|[kuala, lumpur, s...|(262144,[8408,178...|(262144,[8408,178...|[-2.4866051890007...|       1.0|       negative|2025-03-20 22:10:00|\n",
      "|BAGAN SERAI: Plan...|      []|https://www.thest...|       BAGAN SERAI|2025-03-14 21:01:00|   News|     Nation|bagan serai plann...|Planning for raw ...|[bagan, serai, pl...|[bagan, serai, pl...|(262144,[16087,50...|(262144,[16087,50...|[2.73803874388969...|       0.0|       positive|2025-03-14 21:01:00|\n",
      "|SUNGAI BULOH: The...|      []|https://www.thest...|      SUNGAI BULOH|2025-03-13 22:52:00|   News|     Nation|sungai buloh the ...|Health Ministry i...|[sungai, buloh, t...|[sungai, buloh, h...|(262144,[16087,18...|(262144,[16087,18...|[-2.5646820397511...|       2.0|        neutral|2025-03-13 22:52:00|\n",
      "|MELAKA: Solid was...|      []|https://www.thest...|            MELAKA|2025-03-26 21:30:00|   News|     Nation|melaka solid wast...|Public urged not ...|[melaka, solid, w...|[melaka, solid, w...|(262144,[11422,29...|(262144,[11422,29...|[3.81242964311348...|       0.0|       positive|2025-03-26 21:30:00|\n",
      "|KOTA BHARU: The O...|      []|https://www.thest...|        KOTA BHARU|2025-03-16 21:46:00|   News|     Nation|kota bharu the or...|Jakoa to assess n...|[kota, bharu, the...|[kota, bharu, ora...|(262144,[1797,789...|(262144,[1797,789...|[-2.9069237162361...|       1.0|       negative|2025-03-16 21:46:00|\n",
      "+--------------------+--------+--------------------+------------------+-------------------+-------+-----------+--------------------+--------------------+--------------------+--------------------+--------------------+--------------------+--------------------+----------+---------------+-------------------+\n",
      "only showing top 20 rows\n",
      "\n"
     ]
    },
    {
     "name": "stderr",
     "output_type": "stream",
     "text": [
      "                                                                                \r"
     ]
    }
   ],
   "source": [
    "df.show()"
   ]
  },
  {
   "cell_type": "code",
   "execution_count": 18,
   "id": "74ecc226-f98e-4f82-ba13-7de5948e77aa",
   "metadata": {},
   "outputs": [
    {
     "name": "stderr",
     "output_type": "stream",
     "text": [
      "[Stage 47:>                                                         (0 + 1) / 1]\r"
     ]
    },
    {
     "name": "stdout",
     "output_type": "stream",
     "text": [
      "+--------------------+--------------------+-------------------+-------+-----------+------------------+---------------+\n",
      "|               title|             summary|    publish_time_ts|section|sub_section|          location|predicted_label|\n",
      "+--------------------+--------------------+-------------------+-------+-----------+------------------+---------------+\n",
      "|China backs Malay...|jakarta china has...|2025-03-21 21:17:00|   News|     Nation|           JAKARTA|       positive|\n",
      "|Sufficient supply...|kota baru the agr...|2025-03-13 21:42:00|   News|     Nation|         KOTA BARU|       positive|\n",
      "|Cops probing vide...|kuala lumpur poli...|2025-03-26 23:20:00|   News|     Nation|      KUALA LUMPUR|       positive|\n",
      "|Family heading ho...|kota kinabalu a f...|2025-03-28 20:53:00|   News|     Nation|     KOTA KINABALU|       negative|\n",
      "|Woman claims male...|kota kinabalu lab...|2025-03-22 21:04:00|   News|     Nation|     KOTA KINABALU|        neutral|\n",
      "|Raya rush: Traffi...|kuala lumpur traf...|2025-03-28 23:34:00|   News|     Nation|      KUALA LUMPUR|       positive|\n",
      "|Myanmar quake: SM...|kuala lumpur the ...|2025-03-31 19:59:00|   News|     Nation|      KUALA LUMPUR|       negative|\n",
      "|Two films blocked...|kuala lumpur two ...|2025-03-21 22:41:00|   News|     Nation|      KUALA LUMPUR|       negative|\n",
      "|Flood situation w...|petaling jaya the...|2025-03-21 19:59:00|   News|     Nation|     PETALING JAYA|       negative|\n",
      "|MDH's investment ...|kuala lumpur the ...|2025-03-12 21:20:00|   News|     Nation|      KUALA LUMPUR|       negative|\n",
      "|Police identify 1...|kuala lumpur poli...|2025-03-27 23:32:00|   News|     Nation|      KUALA LUMPUR|        neutral|\n",
      "|IGP flags youngst...|kota baru young i...|2025-03-22 20:12:00|   News|     Nation|         KOTA BARU|       positive|\n",
      "|Myanmar quake: Ma...|petaling jaya the...|2025-03-28 20:02:00|   News|     Nation|     PETALING JAYA|       positive|\n",
      "|Investigation on ...|johor baru the po...|2025-03-22 20:23:00|   News|     Nation|        JOHOR BARU|        neutral|\n",
      "|Oscar-winning Pal...|hebron west bank ...|2025-03-25 22:29:00|   News|      World|Location not found|       negative|\n",
      "|Selangor Sultan g...|kuala lumpur sult...|2025-03-20 22:10:00|   News|     Nation|      KUALA LUMPUR|       negative|\n",
      "|Planning for raw ...|bagan serai plann...|2025-03-14 21:01:00|   News|     Nation|       BAGAN SERAI|       positive|\n",
      "|Health Ministry i...|sungai buloh the ...|2025-03-13 22:52:00|   News|     Nation|      SUNGAI BULOH|        neutral|\n",
      "|Public urged not ...|melaka solid wast...|2025-03-26 21:30:00|   News|     Nation|            MELAKA|       positive|\n",
      "|Jakoa to assess n...|kota bharu the or...|2025-03-16 21:46:00|   News|     Nation|        KOTA BHARU|       negative|\n",
      "+--------------------+--------------------+-------------------+-------+-----------+------------------+---------------+\n",
      "only showing top 20 rows\n",
      "\n"
     ]
    },
    {
     "name": "stderr",
     "output_type": "stream",
     "text": [
      "                                                                                \r"
     ]
    }
   ],
   "source": [
    "result_df = df.select(\"title\", \"summary\", \"publish_time_ts\", \"section\", \"sub_section\", \"location\",  \"predicted_label\")\n",
    "result_df.show()"
   ]
  },
  {
   "cell_type": "code",
   "execution_count": 21,
   "id": "e8cdc0c6-28fc-40b8-aa44-28f3488bb231",
   "metadata": {},
   "outputs": [],
   "source": [
    "with open('stop_words.txt', 'r') as f:\n",
    "    stop_words = f.read().splitlines()\n",
    "\n",
    "query = \"\"\"\n",
    "MERGE (n:News {title: $title})\n",
    "SET n.summary = $summary,\n",
    "    n.publish_time = datetime($publish_time)\n",
    "\n",
    "MERGE (s:Section {name: $section})\n",
    "MERGE (ss:SubSection {name: $sub_section})\n",
    "MERGE (ss)-[:PART_OF]->(s)\n",
    "MERGE (n)-[:BELONGS_TO]->(ss)\n",
    "\n",
    "MERGE (l:Location {name: $location})\n",
    "MERGE (n)-[:REPORTED_IN]->(l)\n",
    "\n",
    "MERGE (c:Category {name: $predicted_label})\n",
    "MERGE (n)-[:HAS_CATEGORY]->(c)\n",
    "\n",
    "MERGE (t:Time {date: date($publish_time)})\n",
    "MERGE (n)-[:PUBLISHED_ON]->(t)\n",
    "\n",
    "\"\"\"\n"
   ]
  },
  {
   "cell_type": "code",
   "execution_count": 20,
   "id": "0826ae64-6650-4653-ae70-ddfacfd13e73",
   "metadata": {
    "scrolled": true
   },
   "outputs": [
    {
     "ename": "TypeError",
     "evalue": "NewsGraph.insert_spark_dataframe() got an unexpected keyword argument 'stop_words'",
     "output_type": "error",
     "traceback": [
      "\u001b[0;31m---------------------------------------------------------------------------\u001b[0m",
      "\u001b[0;31mTypeError\u001b[0m                                 Traceback (most recent call last)",
      "Cell \u001b[0;32mIn[20], line 2\u001b[0m\n\u001b[1;32m      1\u001b[0m \u001b[38;5;66;03m#ng.insert_spark_dataframe(result_df, query=query)\u001b[39;00m\n\u001b[0;32m----> 2\u001b[0m \u001b[43mng\u001b[49m\u001b[38;5;241;43m.\u001b[39;49m\u001b[43minsert_spark_dataframe\u001b[49m\u001b[43m(\u001b[49m\u001b[43mresult_df\u001b[49m\u001b[43m,\u001b[49m\u001b[43m \u001b[49m\u001b[43mquery\u001b[49m\u001b[38;5;241;43m=\u001b[39;49m\u001b[43mquery\u001b[49m\u001b[43m,\u001b[49m\u001b[43m \u001b[49m\u001b[43mstop_words\u001b[49m\u001b[38;5;241;43m=\u001b[39;49m\u001b[43mstop_words\u001b[49m\u001b[43m)\u001b[49m\n",
      "\u001b[0;31mTypeError\u001b[0m: NewsGraph.insert_spark_dataframe() got an unexpected keyword argument 'stop_words'"
     ]
    }
   ],
   "source": [
    "ng.insert_spark_dataframe(result_df, query=query)\n"
   ]
  },
  {
   "cell_type": "code",
   "execution_count": 21,
   "id": "b08a9a1a-c28a-4360-96fb-ad12c6582812",
   "metadata": {},
   "outputs": [],
   "source": [
    "ng.close()"
   ]
  },
  {
   "cell_type": "code",
   "execution_count": null,
   "id": "ade4f8e3-706e-4e11-a601-81313d826a3a",
   "metadata": {},
   "outputs": [],
   "source": []
  }
 ],
 "metadata": {
  "kernelspec": {
   "display_name": "de-venv",
   "language": "python",
   "name": "de-venv"
  },
  "language_info": {
   "codemirror_mode": {
    "name": "ipython",
    "version": 3
   },
   "file_extension": ".py",
   "mimetype": "text/x-python",
   "name": "python",
   "nbconvert_exporter": "python",
   "pygments_lexer": "ipython3",
   "version": "3.10.12"
  }
 },
 "nbformat": 4,
 "nbformat_minor": 5
}
