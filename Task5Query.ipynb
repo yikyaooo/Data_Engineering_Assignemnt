{
 "cells": [
  {
   "cell_type": "code",
   "execution_count": 1,
   "id": "f35f6664-97ad-431f-85cf-3d54b63cff76",
   "metadata": {},
   "outputs": [],
   "source": [
    "from pyspark.sql import SparkSession\n",
    "from classes.NewsGraph import NewsGraph"
   ]
  },
  {
   "cell_type": "code",
   "execution_count": 10,
   "id": "26e6546b-9abf-4ff5-88f4-58d47d5d1783",
   "metadata": {},
   "outputs": [],
   "source": [
    "# NEO4J_URI= \"neo4j+s://4590fd45.databases.neo4j.io\"\n",
    "# NEO4J_USERNAME= 'neo4j'\n",
    "# NEO4J_PASSWORD= \"e7HC7RfhsvpFjpRmHcLxgFD6FiI-gPkgqpBzNHyn9vA\"\n",
    "# AURA_INSTANCEID= \"4590fd45\"\n",
    "# AURA_INSTANCENAME= \"Instance01\""
   ]
  },
  {
   "cell_type": "code",
   "execution_count": 2,
   "id": "d0b7a99b-83a3-48ea-aa70-408e51f4cbf9",
   "metadata": {},
   "outputs": [],
   "source": [
    "NEO4J_URI='neo4j+s://a0994a4a.databases.neo4j.io'\n",
    "NEO4J_USERNAME='neo4j'\n",
    "NEO4J_PASSWORD='wfemtxOHWYj9i0y3dln8TdauyfC7fE3Co19ZK4mhMDM'\n",
    "AURA_INSTANCEID='a0994a4a'\n",
    "AURA_INSTANCENAME='Free instance'"
   ]
  },
  {
   "cell_type": "code",
   "execution_count": 3,
   "id": "2fe56102-2d66-431d-9be9-5378195a7d49",
   "metadata": {},
   "outputs": [],
   "source": [
    "ng = NewsGraph( NEO4J_URI, NEO4J_USERNAME, NEO4J_PASSWORD)"
   ]
  },
  {
   "cell_type": "code",
   "execution_count": 4,
   "id": "d07d8fe7-a8a6-453a-a393-3467b8ba254b",
   "metadata": {},
   "outputs": [
    {
     "name": "stdout",
     "output_type": "stream",
     "text": [
      "✅ Connection successful!\n"
     ]
    }
   ],
   "source": [
    "ng.verify_connection()"
   ]
  },
  {
   "cell_type": "code",
   "execution_count": 5,
   "id": "eacd6ab4-1ada-4884-8fc3-307652001a8f",
   "metadata": {},
   "outputs": [
    {
     "name": "stderr",
     "output_type": "stream",
     "text": [
      "25/04/17 09:34:31 WARN Utils: Your hostname, Macpad5Pro. resolves to a loopback address: 127.0.1.1; using 10.255.255.254 instead (on interface lo)\n",
      "25/04/17 09:34:31 WARN Utils: Set SPARK_LOCAL_IP if you need to bind to another address\n",
      "Setting default log level to \"WARN\".\n",
      "To adjust logging level use sc.setLogLevel(newLevel). For SparkR, use setLogLevel(newLevel).\n",
      "25/04/17 09:34:32 WARN NativeCodeLoader: Unable to load native-hadoop library for your platform... using builtin-java classes where applicable\n",
      "25/04/17 09:34:35 WARN Utils: Service 'SparkUI' could not bind on port 4040. Attempting port 4041.\n",
      "25/04/17 09:34:35 WARN Utils: Service 'SparkUI' could not bind on port 4041. Attempting port 4042.\n"
     ]
    }
   ],
   "source": [
    "spark = SparkSession.builder \\\n",
    "    .appName(\"Neo4j Query\") \\\n",
    "    .getOrCreate()"
   ]
  },
  {
   "cell_type": "markdown",
   "id": "2e447be1-afaa-474a-8d48-a2bcfbc75cc4",
   "metadata": {},
   "source": [
    "### Top Categories by Article Count"
   ]
  },
  {
   "cell_type": "code",
   "execution_count": 7,
   "id": "b9e1064f-5b2e-4097-9d24-23714ca44b1c",
   "metadata": {},
   "outputs": [
    {
     "name": "stdout",
     "output_type": "stream",
     "text": [
      "+--------------------+------------+--------+\n",
      "|     relatedArticles|relatedCount|    word|\n",
      "+--------------------+------------+--------+\n",
      "|[China backs Mala...|         196|   perak|\n",
      "|[China backs Mala...|         189|   seven|\n",
      "|[Family heading h...|         188|  public|\n",
      "|[China backs Mala...|         183|    dept|\n",
      "|[Sufficient suppl...|         181|    cops|\n",
      "|[China backs Mala...|         180|  health|\n",
      "|[Sufficient suppl...|         180|products|\n",
      "|[Sufficient suppl...|         180|     gua|\n",
      "|[Raya rush: Traff...|         179|   works|\n",
      "|[China backs Mala...|         177|  repair|\n",
      "+--------------------+------------+--------+\n",
      "\n"
     ]
    }
   ],
   "source": [
    "with open('stop_words.txt', 'r') as f:\n",
    "    stop_words = f.read().splitlines()  # Read and split each line into a list\n",
    "\n",
    "query = \"\"\"\n",
    "WITH $stop_words AS stopWords\n",
    "MATCH (n:News)\n",
    "WITH n, [word IN split(toLower(n.title), ' ') WHERE NOT word IN stopWords AND word <> \"\"] AS words\n",
    "UNWIND words AS word\n",
    "MATCH (n)-[:RELATED_TO]->(n2:News)\n",
    "WHERE n <> n2\n",
    "WITH word, n2.title AS relatedTitle\n",
    "WITH word, COLLECT(DISTINCT relatedTitle) AS relatedArticles\n",
    "RETURN word, SIZE(relatedArticles) AS relatedCount, relatedArticles\n",
    "ORDER BY relatedCount DESC\n",
    "LIMIT 10\n",
    "\n",
    "\"\"\"\n",
    "\n",
    "# Run the query with stop words as parameters\n",
    "parameters = {'stop_words': stop_words}\n",
    "df = ng.run_cypher_query(spark, query, parameters)\n",
    "df.show()"
   ]
  },
  {
   "cell_type": "code",
   "execution_count": 20,
   "id": "08e88d26-148e-4cd6-a164-d12f7beb250f",
   "metadata": {},
   "outputs": [
    {
     "name": "stdout",
     "output_type": "stream",
     "text": [
      "+---------+---------+------------+------------------+--------------------+--------------------+--------------------+--------------------+------------+------------+\n",
      "|category1|category2|   location1|         location2|               news1|               news2|       publish_date1|       publish_date2|sub_section1|sub_section2|\n",
      "+---------+---------+------------+------------------+--------------------+--------------------+--------------------+--------------------+------------+------------+\n",
      "| negative| positive|KUALA LUMPUR|           JAKARTA|Myanmar quake: SM...|China backs Malay...|{-1, 3, 739341, 2...|{21, 3, 739331, 2...|      Nation|      Nation|\n",
      "| negative| positive|KUALA LUMPUR|         KOTA BARU|Myanmar quake: SM...|Sufficient supply...|{-1, 3, 739341, 2...|{13, 3, 739323, 2...|      Nation|      Nation|\n",
      "| negative| positive|KUALA LUMPUR|      KUALA LUMPUR|Myanmar quake: SM...|Cops probing vide...|{-1, 3, 739341, 2...|{26, 3, 739336, 2...|      Nation|      Nation|\n",
      "| negative| negative|KUALA LUMPUR|     KOTA KINABALU|Myanmar quake: SM...|Family heading ho...|{-1, 3, 739341, 2...|{28, 3, 739338, 2...|      Nation|      Nation|\n",
      "| negative|  neutral|KUALA LUMPUR|     KOTA KINABALU|Myanmar quake: SM...|Woman claims male...|{-1, 3, 739341, 2...|{22, 3, 739332, 2...|      Nation|      Nation|\n",
      "| negative| positive|KUALA LUMPUR|      KUALA LUMPUR|Myanmar quake: SM...|Raya rush: Traffi...|{-1, 3, 739341, 2...|{28, 3, 739338, 2...|      Nation|      Nation|\n",
      "| negative| positive| GEORGE TOWN|      KUALA LUMPUR|Car thief who fle...|Cops probing vide...|{-1, 3, 739341, 2...|{26, 3, 739336, 2...|      Nation|      Nation|\n",
      "| negative| positive| GEORGE TOWN|      KUALA LUMPUR|Car thief who fle...|Raya rush: Traffi...|{-1, 3, 739341, 2...|{28, 3, 739338, 2...|      Nation|      Nation|\n",
      "| negative| negative| GEORGE TOWN|      KUALA LUMPUR|Car thief who fle...|Myanmar quake: SM...|{-1, 3, 739341, 2...|{-1, 3, 739341, 2...|      Nation|      Nation|\n",
      "| negative| negative| GEORGE TOWN|      KUALA LUMPUR|Car thief who fle...|Two films blocked...|{-1, 3, 739341, 2...|{21, 3, 739331, 2...|      Nation|      Nation|\n",
      "| negative| negative| GEORGE TOWN|     PETALING JAYA|Car thief who fle...|Flood situation w...|{-1, 3, 739341, 2...|{21, 3, 739331, 2...|      Nation|      Nation|\n",
      "| negative|  neutral| GEORGE TOWN|      KUALA LUMPUR|Car thief who fle...|Police identify 1...|{-1, 3, 739341, 2...|{27, 3, 739337, 2...|      Nation|      Nation|\n",
      "| negative| positive| GEORGE TOWN|         KOTA BARU|Car thief who fle...|IGP flags youngst...|{-1, 3, 739341, 2...|{22, 3, 739332, 2...|      Nation|      Nation|\n",
      "| negative|  neutral| GEORGE TOWN|        JOHOR BARU|Car thief who fle...|Investigation on ...|{-1, 3, 739341, 2...|{22, 3, 739332, 2...|      Nation|      Nation|\n",
      "| negative| negative| GEORGE TOWN|Location not found|Car thief who fle...|Oscar-winning Pal...|{-1, 3, 739341, 2...|{25, 3, 739335, 2...|      Nation|       World|\n",
      "| negative| positive| GEORGE TOWN|       BAGAN SERAI|Car thief who fle...|Planning for raw ...|{-1, 3, 739341, 2...|{14, 3, 739324, 2...|      Nation|      Nation|\n",
      "| negative|  neutral| GEORGE TOWN|      SUNGAI BULOH|Car thief who fle...|Health Ministry i...|{-1, 3, 739341, 2...|{13, 3, 739323, 2...|      Nation|      Nation|\n",
      "| negative| positive| GEORGE TOWN|            MELAKA|Car thief who fle...|Public urged not ...|{-1, 3, 739341, 2...|{26, 3, 739336, 2...|      Nation|      Nation|\n",
      "| negative|  neutral| GEORGE TOWN|      KUALA LUMPUR|Car thief who fle...|Dewan Negara sitt...|{-1, 3, 739341, 2...|{25, 3, 739335, 2...|      Nation|      Nation|\n",
      "| negative| negative| GEORGE TOWN|      KUALA LUMPUR|Car thief who fle...|Jakim summons aut...|{-1, 3, 739341, 2...|{17, 3, 739327, 2...|      Nation|      Nation|\n",
      "+---------+---------+------------+------------------+--------------------+--------------------+--------------------+--------------------+------------+------------+\n",
      "only showing top 20 rows\n",
      "\n"
     ]
    }
   ],
   "source": [
    "query = \"\"\"\n",
    "MATCH (n1:News)-[:RELATED_TO]->(n2:News)\n",
    "MATCH (n1)-[:PUBLISHED_ON]->(t1:Time), (n2)-[:PUBLISHED_ON]->(t2:Time)\n",
    "MATCH (n1)-[:HAS_CATEGORY]->(c1:Category), (n2)-[:HAS_CATEGORY]->(c2:Category)\n",
    "MATCH (n1)-[:REPORTED_IN]->(l1:Location), (n2)-[:REPORTED_IN]->(l2:Location)\n",
    "MATCH (n1)-[:BELONGS_TO]->(ss1:SubSection), (n2)-[:BELONGS_TO]->(ss2:SubSection)\n",
    "WHERE n1 <> n2\n",
    "RETURN \n",
    "    n1.title AS news1, \n",
    "    t1.date AS publish_date1, \n",
    "    c1.name AS category1, \n",
    "    l1.name AS location1, \n",
    "    ss1.name AS sub_section1,\n",
    "    n2.title AS news2, \n",
    "    t2.date AS publish_date2, \n",
    "    c2.name AS category2, \n",
    "    l2.name AS location2, \n",
    "    ss2.name AS sub_section2\n",
    "ORDER BY publish_date1 DESC\n",
    "\n",
    "\"\"\"\n",
    "df = ng.run_cypher_query(spark, query)\n",
    "df.show()"
   ]
  },
  {
   "cell_type": "code",
   "execution_count": 6,
   "id": "e6f27e36-65ce-4e63-9fff-c074eccfcb34",
   "metadata": {},
   "outputs": [
    {
     "name": "stderr",
     "output_type": "stream",
     "text": [
      "                                                                                \r"
     ]
    },
    {
     "name": "stdout",
     "output_type": "stream",
     "text": [
      "+--------------------+--------------------+--------------------+\n",
      "|        news_summary|          news_title|        publish_date|\n",
      "+--------------------+--------------------+--------------------+\n",
      "|jakarta china has...|China backs Malay...|{21, 3, 739331, 2...|\n",
      "|kuala lumpur two ...|Two films blocked...|{21, 3, 739331, 2...|\n",
      "|petaling jaya the...|Flood situation w...|{21, 3, 739331, 2...|\n",
      "|kuala lumpur the ...|Malaysians report...|{21, 3, 739331, 2...|\n",
      "|kota kinabalu sab...|Sabah Umno hits o...|{21, 3, 739331, 2...|\n",
      "|kuala kangsar the...|Jakim lodges poli...|{21, 3, 739331, 2...|\n",
      "|malaysia has been...|Malaysia ranked a...|{21, 3, 739331, 2...|\n",
      "|kuala lumpur form...|Former Sabah mini...|{21, 3, 739331, 2...|\n",
      "|chukai prime mini...|Anwar announces R...|{21, 3, 739331, 2...|\n",
      "|london bloomberg ...|Heathrow shutdown...|{21, 3, 739331, 2...|\n",
      "+--------------------+--------------------+--------------------+\n",
      "\n"
     ]
    }
   ],
   "source": [
    "query = \"\"\"\n",
    "MATCH (n:News)-[:PUBLISHED_ON]->(t:Time)\n",
    "RETURN n.title AS news_title, n.summary AS news_summary, t.date AS publish_date\n",
    "LIMIT 10\n",
    "\"\"\"\n",
    "\n",
    "\n",
    "\n",
    "df = ng.run_cypher_query(spark, query)\n",
    "df.show()"
   ]
  },
  {
   "cell_type": "code",
   "execution_count": 7,
   "id": "a6e1bdb3-1536-4a6e-a053-fa194b64d3e3",
   "metadata": {},
   "outputs": [
    {
     "data": {
      "text/plain": [
       "[Row(news_summary='jakarta china has pledged strong support for malaysias asean  chairmanship emphasising the aseanchina free trade area acfta  protocol signing as a key priority for regional economic integration', news_title=\"China backs Malaysia's Asean leadership\", publish_date=Row(_Date__day=21, _Date__month=3, _Date__ordinal=739331, _Date__year=2025)),\n",
       " Row(news_summary='kuala lumpur two films that received incentives from the creative content fund dkk have been blocked from screening due to producers failure to pay production crew wages says datuk fahmi fadzil', news_title='Two films blocked from screening for not paying production crew', publish_date=Row(_Date__day=21, _Date__month=3, _Date__ordinal=739331, _Date__year=2025)),\n",
       " Row(news_summary='petaling jaya the flood situation in sarawak has worsened with the number of evacuees rising steadily', news_title='Flood situation worsens in Sarawak, improves in Sabah as evacuee numbers shift', publish_date=Row(_Date__day=21, _Date__month=3, _Date__ordinal=739331, _Date__year=2025)),\n",
       " Row(news_summary='kuala lumpur the ipsos happiness index  finds that malaysians report higher levels of happiness than the global average and several developed asian countries', news_title='Malaysians report higher level of happiness than global average, Ipsos index shows', publish_date=Row(_Date__day=21, _Date__month=3, _Date__ordinal=739331, _Date__year=2025)),\n",
       " Row(news_summary='kota kinabalu sabah umno has criticised gabungan rakyat sabah grs for failing to uphold good governance citing a rmbil lawsuit against chief minister datuk seri hajiji noor as an example', news_title=\"Sabah Umno hits out at GRS over supposed 'governance issues'\", publish_date=Row(_Date__day=21, _Date__month=3, _Date__ordinal=739331, _Date__year=2025)),\n",
       " Row(news_summary='kuala kangsar the malaysia islamic development department jakim has lodged a police report over insults against islam posted by irresponsible parties on social media', news_title='Jakim lodges police report over insults against Islam', publish_date=Row(_Date__day=21, _Date__month=3, _Date__ordinal=739331, _Date__year=2025)),\n",
       " Row(news_summary='malaysia has been ranked as one of the top  countries for retirement in  by international living securing the seventh spot in the magazines annual global retirement index', news_title=\"Malaysia ranked among world's Top 10 retirement destinations, Thailand only other South-East Asian country in list\", publish_date=Row(_Date__day=21, _Date__month=3, _Date__ordinal=739331, _Date__year=2025)),\n",
       " Row(news_summary='kuala lumpur former sabah infrastructure development minister datuk peter anthony has filed a review of the court of appeals decision to uphold his threeyear jail sentence and rm fine for falsifying documents related to the maintenance and service contract at universiti malaysia sabah ums  years ago', news_title=\"Former Sabah minister Peter Anthony seeks to review Court of Appeal's decision\", publish_date=Row(_Date__day=21, _Date__month=3, _Date__ordinal=739331, _Date__year=2025)),\n",
       " Row(news_summary='chukai prime minister datuk seri anwar ibrahim has announced a rm aidilfitri special financial aid for religious school teachers imams and mosque personnel across the country', news_title='Anwar announces RM250 Aidilfitri aid for religious school teachers, imams and mosque personnel', publish_date=Row(_Date__day=21, _Date__month=3, _Date__ordinal=739331, _Date__year=2025)),\n",
       " Row(news_summary='london bloomberg heathrow airport suffered its worst disruption in at least two decades after a nearby fire cut power to the hub and brought travel to a standstill for hundreds of thousands of passengers', news_title='Heathrow shutdown affecting hundreds of thousands of passengers', publish_date=Row(_Date__day=21, _Date__month=3, _Date__ordinal=739331, _Date__year=2025))]"
      ]
     },
     "execution_count": 7,
     "metadata": {},
     "output_type": "execute_result"
    }
   ],
   "source": [
    "import pandas as pd\n",
    "pd.set_option('display.max_colwidth', None)  # This will allow full width in the columns\n",
    "df.head(20)\n"
   ]
  },
  {
   "cell_type": "code",
   "execution_count": 8,
   "id": "bd91e8b7-4de3-4ffb-b64f-457ff20a5864",
   "metadata": {
    "scrolled": true
   },
   "outputs": [
    {
     "name": "stdout",
     "output_type": "stream",
     "text": [
      "+-------------+--------+\n",
      "|article_count|    word|\n",
      "+-------------+--------+\n",
      "|           16|    raya|\n",
      "|           15|    hari|\n",
      "|           14|    over|\n",
      "|           10|   anwar|\n",
      "|            8|     two|\n",
      "|            8|      pm|\n",
      "|            8| myanmar|\n",
      "|            7|    into|\n",
      "|            7|selangor|\n",
      "|            7|  sultan|\n",
      "+-------------+--------+\n",
      "\n"
     ]
    }
   ],
   "source": [
    "query = \"\"\"\n",
    "MATCH (n:News)\n",
    "WITH n, split(toLower(n.title), ' ') AS words  // Keep the original node 'n' to count articles\n",
    "UNWIND words AS word  // Unwind each word into individual rows\n",
    "WITH word, COUNT(n) AS article_count  // Count how many articles contain each word\n",
    "WHERE word IS NOT NULL \n",
    "  AND word <> \"\" \n",
    "  AND NOT word IN ['after','from','says','the', 'and', 'of', 'to', 'a', 'in', 'is', 'on', 'for', 'with', 'as', 'by', 'at', 'an', 'be', 'this', 'that']  // Exclude stop words\n",
    "RETURN word, article_count\n",
    "ORDER BY article_count DESC\n",
    "LIMIT 10\n",
    "\n",
    "\"\"\"\n",
    "df = ng.run_cypher_query(spark, query)\n",
    "df.show()"
   ]
  },
  {
   "cell_type": "markdown",
   "id": "52e6bf1b-99e5-4735-89d3-f8a52cdc041d",
   "metadata": {},
   "source": [
    "## Query 1"
   ]
  },
  {
   "cell_type": "code",
   "execution_count": 9,
   "id": "132361ab-285d-4700-a690-38df86928f1d",
   "metadata": {},
   "outputs": [
    {
     "name": "stdout",
     "output_type": "stream",
     "text": [
      "+-------------+-------------+--------------------+--------------------+------------+------------+---------------+\n",
      "|category_name|location_name|        news_summary|          news_title|publish_date|section_name|subsection_name|\n",
      "+-------------+-------------+--------------------+--------------------+------------+------------+---------------+\n",
      "|     positive|      JAKARTA|jakarta china has...|China backs Malay...|  2025-03-21|        News|         Nation|\n",
      "|     positive|    KOTA BARU|kota baru the agr...|Sufficient supply...|  2025-03-13|        News|         Nation|\n",
      "|     positive| KUALA LUMPUR|kuala lumpur poli...|Cops probing vide...|  2025-03-26|        News|         Nation|\n",
      "|     negative|KOTA KINABALU|kota kinabalu a f...|Family heading ho...|  2025-03-28|        News|         Nation|\n",
      "|      neutral|KOTA KINABALU|kota kinabalu lab...|Woman claims male...|  2025-03-22|        News|         Nation|\n",
      "|     positive| KUALA LUMPUR|kuala lumpur traf...|Raya rush: Traffi...|  2025-03-28|        News|         Nation|\n",
      "|     negative| KUALA LUMPUR|kuala lumpur the ...|Myanmar quake: SM...|  2025-03-31|        News|         Nation|\n",
      "|     negative| KUALA LUMPUR|kuala lumpur two ...|Two films blocked...|  2025-03-21|        News|         Nation|\n",
      "|     negative|PETALING JAYA|petaling jaya the...|Flood situation w...|  2025-03-21|        News|         Nation|\n",
      "|     negative| KUALA LUMPUR|kuala lumpur the ...|MDH's investment ...|  2025-03-12|        News|         Nation|\n",
      "|      neutral| KUALA LUMPUR|kuala lumpur poli...|Police identify 1...|  2025-03-27|        News|         Nation|\n",
      "|     positive|    KOTA BARU|kota baru young i...|IGP flags youngst...|  2025-03-22|        News|         Nation|\n",
      "|     positive|PETALING JAYA|petaling jaya the...|Myanmar quake: Ma...|  2025-03-28|        News|         Nation|\n",
      "|      neutral|   JOHOR BARU|johor baru the po...|Investigation on ...|  2025-03-22|        News|         Nation|\n",
      "|     negative| KUALA LUMPUR|kuala lumpur sult...|Selangor Sultan g...|  2025-03-20|        News|         Nation|\n",
      "|     positive|  BAGAN SERAI|bagan serai plann...|Planning for raw ...|  2025-03-14|        News|         Nation|\n",
      "|      neutral| SUNGAI BULOH|sungai buloh the ...|Health Ministry i...|  2025-03-13|        News|         Nation|\n",
      "|     positive|       MELAKA|melaka solid wast...|Public urged not ...|  2025-03-26|        News|         Nation|\n",
      "|     negative|   KOTA BHARU|kota bharu the or...|Jakoa to assess n...|  2025-03-16|        News|         Nation|\n",
      "|      neutral| KUALA LUMPUR|kuala lumpur the ...|Dewan Negara sitt...|  2025-03-25|        News|         Nation|\n",
      "+-------------+-------------+--------------------+--------------------+------------+------------+---------------+\n",
      "only showing top 20 rows\n",
      "\n"
     ]
    }
   ],
   "source": [
    "#This query helps identify the most frequent keywords in news article titles over time, excluding common stop words, and provides insights \n",
    "#into the distribution of these keywords by publication date, revealing trends and shifts in news coverage.\n",
    "\n",
    "# Load stop words from a file\n",
    "with open('stop_words.txt', 'r') as f:\n",
    "    stop_words = f.read().splitlines()  # Read and split each line into a list\n",
    "\n",
    "# Define the Cypher query with a placeholder for the stop words\n",
    "query = \"\"\"\n",
    "MATCH (n:News)-[:PUBLISHED_ON]->(t:Time),\n",
    "      (n)-[:BELONGS_TO]->(ss:SubSection)-[:PART_OF]->(s:Section),\n",
    "      (n)-[:REPORTED_IN]->(l:Location),\n",
    "      (n)-[:HAS_CATEGORY]->(c:Category)\n",
    "RETURN n.title AS news_title, n.summary AS news_summary,toString(t.date) AS publish_date,\n",
    "       ss.name AS subsection_name, s.name AS section_name, l.name AS location_name, c.name AS category_name\n",
    "\n",
    "\"\"\"\n",
    "\n",
    "# Pass the stop words as a parameter to the query\n",
    "parameters = {'stop_words': stop_words}\n",
    "\n",
    "# Run the query using the `ng` class\n",
    "df = ng.run_cypher_query(spark, query, parameters)\n",
    "\n",
    "# Show the results\n",
    "df.show()\n"
   ]
  },
  {
   "cell_type": "code",
   "execution_count": 10,
   "id": "f2396479-6d6c-4ab5-b043-a9ac3ac2c8f0",
   "metadata": {},
   "outputs": [
    {
     "name": "stdout",
     "output_type": "stream",
     "text": [
      "+------------+--------------+--------+\n",
      "|Publish_date|total_articles|    word|\n",
      "+------------+--------------+--------+\n",
      "|  2025-03-31|             3|    hari|\n",
      "|  2025-03-31|             3|    raya|\n",
      "|  2025-03-31|             2|     boy|\n",
      "|  2025-03-31|             2|    open|\n",
      "|  2025-03-31|             1|rescuing|\n",
      "|  2025-03-31|             1| focuses|\n",
      "|  2025-03-31|             1|  places|\n",
      "|  2025-03-31|             1|  quake:|\n",
      "|  2025-03-31|             1| victims|\n",
      "|  2025-03-31|             1| myanmar|\n",
      "+------------+--------------+--------+\n",
      "\n"
     ]
    }
   ],
   "source": [
    "#This query helps identify the most frequent keywords in news article titles over time, excluding common stop words, and provides insights \n",
    "#into the distribution of these keywords by publication date, revealing trends and shifts in news coverage.\n",
    "\n",
    "# Load stop words from a file\n",
    "with open('stop_words.txt', 'r') as f:\n",
    "    stop_words = f.read().splitlines()  # Read and split each line into a list\n",
    "\n",
    "# Define the Cypher query with a placeholder for the stop words\n",
    "query = \"\"\"\n",
    "MATCH (n:News)-[:PUBLISHED_ON]->(t:Time)\n",
    "WITH n, \n",
    "     split(toLower(n.title), ' ') AS words, \n",
    "     toString(t.date) AS Publish_date  // Convert the 'date' property of Time node to String\n",
    "UNWIND words AS word\n",
    "WITH word, Publish_date, COUNT(n) AS article_count\n",
    "WHERE word IS NOT NULL \n",
    "  AND word <> \"\" \n",
    "  AND NOT word IN $stop_words  // Pass stop_words as a parameter\n",
    "RETURN word, Publish_date, SUM(article_count) AS total_articles\n",
    "ORDER BY Publish_date DESC, total_articles DESC\n",
    "LIMIT 10\n",
    "\"\"\"\n",
    "\n",
    "# Pass the stop words as a parameter to the query\n",
    "parameters = {'stop_words': stop_words}\n",
    "\n",
    "# Run the query using the `ng` class\n",
    "df = ng.run_cypher_query(spark, query, parameters)\n",
    "\n",
    "# Show the results\n",
    "df.show()\n"
   ]
  },
  {
   "cell_type": "code",
   "execution_count": 11,
   "id": "be4a19cc-4274-4646-bbd5-ce642a7d43be",
   "metadata": {},
   "outputs": [
    {
     "name": "stdout",
     "output_type": "stream",
     "text": [
      "+------------+--------------+--------+\n",
      "|Publish_date|total_articles|    word|\n",
      "+------------+--------------+--------+\n",
      "|   2025-3-31|             3|    hari|\n",
      "|   2025-3-31|             3|    raya|\n",
      "|   2025-3-31|             2|     boy|\n",
      "|   2025-3-31|             2|    open|\n",
      "|   2025-3-31|             1|  places|\n",
      "|   2025-3-31|             1| victims|\n",
      "|   2025-3-31|             1| worship|\n",
      "|   2025-3-31|             1| focuses|\n",
      "|   2025-3-31|             1|rescuing|\n",
      "|   2025-3-31|             1|  quake:|\n",
      "+------------+--------------+--------+\n",
      "\n"
     ]
    }
   ],
   "source": [
    "#This query helps identify the most frequent keywords in news article titles over time, excluding common stop words, and provides insights \n",
    "#into the distribution of these keywords by publication date, revealing trends and shifts in news coverage.\n",
    "\n",
    "# Load stop words from a file\n",
    "with open('stop_words.txt', 'r') as f:\n",
    "    stop_words = f.read().splitlines()  # Read and split each line into a list\n",
    "\n",
    "# Define the Cypher query with a placeholder for the stop words\n",
    "query = \"\"\"\n",
    "MATCH (n:News)\n",
    "WITH n, \n",
    "     split(toLower(n.title), ' ') AS words, \n",
    "     toString(date(n.publish_time).year) + \"-\" + \n",
    "     toString(date(n.publish_time).month) + \"-\" + \n",
    "     toString(date(n.publish_time).day) AS Publish_date\n",
    "UNWIND words AS word\n",
    "WITH word, Publish_date, COUNT(n) AS article_count\n",
    "WHERE word IS NOT NULL \n",
    "  AND word <> \"\" \n",
    "  AND NOT word IN $stop_words  // Pass stop_words as a parameter\n",
    "RETURN word, Publish_date, SUM(article_count) AS total_articles\n",
    "ORDER BY Publish_date DESC, total_articles DESC\n",
    "LIMIT 10\n",
    "\"\"\"\n",
    "\n",
    "# Pass the stop words as a parameter to the query\n",
    "parameters = {'stop_words': stop_words}\n",
    "\n",
    "# Run the query using the `ng` class\n",
    "df = ng.run_cypher_query(spark, query, parameters)\n",
    "\n",
    "# Show the results\n",
    "df.show()\n"
   ]
  },
  {
   "cell_type": "markdown",
   "id": "ba3cb8c5-26ff-4868-96d7-bf215d790707",
   "metadata": {},
   "source": [
    "## Query 2"
   ]
  },
  {
   "cell_type": "code",
   "execution_count": 12,
   "id": "43e7260a-8438-4502-be90-3caad82dded5",
   "metadata": {},
   "outputs": [
    {
     "name": "stdout",
     "output_type": "stream",
     "text": [
      "+----------------------+--------------+-------------+--------------+-----------+-------+\n",
      "|formatted_publish_date|negative_count|neutral_count|positive_count|total_count|   word|\n",
      "+----------------------+--------------+-------------+--------------+-----------+-------+\n",
      "|            2025-03-29|             0|            0|             4|          4|   hari|\n",
      "|            2025-03-28|             0|            0|             4|          4|myanmar|\n",
      "|            2025-03-29|             0|            0|             4|          4|   raya|\n",
      "|            2025-03-15|             3|            0|             0|          3|  after|\n",
      "|            2025-03-29|             0|            0|             3|          3|exodus:|\n",
      "|            2025-03-30|             0|            0|             3|          3|   hari|\n",
      "|            2025-03-31|             0|            1|             2|          3|   hari|\n",
      "|            2025-03-27|             0|            2|             1|          3| police|\n",
      "|            2025-03-28|             1|            0|             2|          3|   raya|\n",
      "|            2025-03-30|             0|            0|             3|          3|   raya|\n",
      "+----------------------+--------------+-------------+--------------+-----------+-------+\n",
      "\n"
     ]
    }
   ],
   "source": [
    "# Load stop words\n",
    "with open('stop_words.txt', 'r') as f:\n",
    "    stop_words = f.read().splitlines()\n",
    "\n",
    "# Updated Cypher query\n",
    "query = \"\"\"\n",
    "MATCH (n:News)-[:HAS_CATEGORY]->(c:Category)\n",
    "MATCH (n)-[:PUBLISHED_ON]->(t:Time)\n",
    "WITH n, \n",
    "     split(toLower(n.title), ' ') AS words, \n",
    "     toString(t.date) AS formatted_publish_date, \n",
    "     c.name AS sentiment  \n",
    "UNWIND words AS word\n",
    "WITH word, formatted_publish_date, sentiment, COUNT(n) AS article_count\n",
    "WHERE word IS NOT NULL \n",
    "  AND word <> \"\" \n",
    "  AND NOT word IN $stop_words\n",
    "WITH word, formatted_publish_date, \n",
    "     SUM(CASE WHEN sentiment = 'positive' THEN article_count ELSE 0 END) AS positive_count,\n",
    "     SUM(CASE WHEN sentiment = 'neutral' THEN article_count ELSE 0 END) AS neutral_count,\n",
    "     SUM(CASE WHEN sentiment = 'negative' THEN article_count ELSE 0 END) AS negative_count,\n",
    "     (SUM(CASE WHEN sentiment = 'positive' THEN article_count ELSE 0 END) + \n",
    "      SUM(CASE WHEN sentiment = 'neutral' THEN article_count ELSE 0 END) + \n",
    "      SUM(CASE WHEN sentiment = 'negative' THEN article_count ELSE 0 END)) AS total_count\n",
    "RETURN word, formatted_publish_date, positive_count, neutral_count, negative_count, total_count\n",
    "ORDER BY total_count DESC, word ASC\n",
    "LIMIT 10\n",
    "\"\"\"\n",
    "\n",
    "# Run with parameters\n",
    "parameters = {'stop_words': stop_words}\n",
    "df = ng.run_cypher_query(spark, query, parameters)\n",
    "df.show()\n"
   ]
  },
  {
   "cell_type": "markdown",
   "id": "63e96ce6-ab35-4537-901d-08398ae4b23e",
   "metadata": {},
   "source": [
    "## Query 3"
   ]
  },
  {
   "cell_type": "code",
   "execution_count": 13,
   "id": "e6815e90-a8ce-4dad-8dc5-aa6f09d9ac99",
   "metadata": {},
   "outputs": [
    {
     "name": "stdout",
     "output_type": "stream",
     "text": [
      "+---------+-----------+--------------+\n",
      "|sentiment|time_period|total_articles|\n",
      "+---------+-----------+--------------+\n",
      "| positive|  Afternoon|             2|\n",
      "| negative|  Afternoon|             1|\n",
      "|  neutral|  Afternoon|             1|\n",
      "| positive|      Night|            88|\n",
      "| negative|      Night|            69|\n",
      "|  neutral|      Night|            39|\n",
      "+---------+-----------+--------------+\n",
      "\n"
     ]
    }
   ],
   "source": [
    "#This query will give you a good overview of how the sentiment distribution varies across different times of the day.\n",
    "\n",
    "query = \"\"\"\n",
    "MATCH (n:News)-[:HAS_CATEGORY]->(c:Category)\n",
    "MATCH (n)-[:PUBLISHED_ON]->(t:Time)\n",
    "WITH n,\n",
    "     toString(t.date) AS formatted_publish_date,\n",
    "     time(n.publish_time).hour AS hour,\n",
    "     c.name AS sentiment\n",
    "WITH formatted_publish_date, \n",
    "     CASE\n",
    "         WHEN hour >= 6 AND hour < 12 THEN 'Morning'\n",
    "         WHEN hour >= 12 AND hour < 18 THEN 'Afternoon'\n",
    "         ELSE 'Night'\n",
    "     END AS time_period,\n",
    "     sentiment,\n",
    "     COUNT(n) AS article_count\n",
    "WITH time_period, sentiment, SUM(article_count) AS total_articles\n",
    "ORDER BY time_period, total_articles DESC\n",
    "RETURN time_period, sentiment, total_articles\n",
    "\"\"\"\n",
    "\n",
    "\n",
    "df = ng.run_cypher_query(spark, query)\n",
    "df.show()\n"
   ]
  },
  {
   "cell_type": "code",
   "execution_count": 14,
   "id": "a8dca8b3-304b-49a3-a143-322ab105c52b",
   "metadata": {},
   "outputs": [
    {
     "data": {
      "image/png": "[encoded data removed]",
      "text/plain": [
       "<Figure size 1000x600 with 1 Axes>"
      ]
     },
     "metadata": {},
     "output_type": "display_data"
    }
   ],
   "source": [
    "import matplotlib.pyplot as plt\n",
    "import matplotlib.patches as mpatches\n",
    "\n",
    "# Define the updated query using :PUBLISHED_ON and keeping hour from n.publish_time\n",
    "query = \"\"\"\n",
    "MATCH (n:News)-[:HAS_CATEGORY]->(c:Category)\n",
    "MATCH (n)-[:PUBLISHED_ON]->(t:Time)\n",
    "WITH n,\n",
    "     toString(t.date) AS formatted_publish_date,\n",
    "     time(n.publish_time).hour AS hour,\n",
    "     c.name AS sentiment\n",
    "WITH formatted_publish_date, \n",
    "     CASE\n",
    "         WHEN hour >= 6 AND hour < 12 THEN 'Morning'\n",
    "         WHEN hour >= 12 AND hour < 18 THEN 'Afternoon'\n",
    "         ELSE 'Night'\n",
    "     END AS time_period,\n",
    "     sentiment,\n",
    "     COUNT(n) AS article_count\n",
    "WITH time_period, sentiment, SUM(article_count) AS total_count\n",
    "ORDER BY time_period, sentiment\n",
    "RETURN time_period, sentiment, total_count\n",
    "\"\"\"\n",
    "\n",
    "# Run the query using the ng class\n",
    "df = ng.run_cypher_query(spark, query)\n",
    "\n",
    "# Collect results\n",
    "results = df.collect()\n",
    "\n",
    "# Extract and group data\n",
    "time_periods = [row['time_period'] for row in results]\n",
    "sentiments = [row['sentiment'] for row in results]\n",
    "total_counts = [row['total_count'] for row in results]\n",
    "\n",
    "# Organize counts per sentiment\n",
    "time_periods_unique = ['Morning', 'Afternoon', 'Night']\n",
    "positive_counts = [sum([total_counts[i] for i in range(len(time_periods)) if time_periods[i] == period and sentiments[i] == 'positive']) for period in time_periods_unique]\n",
    "neutral_counts  = [sum([total_counts[i] for i in range(len(time_periods)) if time_periods[i] == period and sentiments[i] == 'neutral']) for period in time_periods_unique]\n",
    "negative_counts = [sum([total_counts[i] for i in range(len(time_periods)) if time_periods[i] == period and sentiments[i] == 'negative']) for period in time_periods_unique]\n",
    "\n",
    "# Plot\n",
    "fig, ax = plt.subplots(figsize=(10, 6))\n",
    "\n",
    "bar_width = 0.2\n",
    "index = range(len(time_periods_unique))\n",
    "\n",
    "ax.bar(index, positive_counts, bar_width, label='Positive', color='lightgreen')\n",
    "ax.bar([i + bar_width for i in index], neutral_counts, bar_width, label='Neutral', color='lightgray')\n",
    "ax.bar([i + 2 * bar_width for i in index], negative_counts, bar_width, label='Negative', color='lightcoral')\n",
    "\n",
    "# Labels & titles\n",
    "ax.set_xlabel('Time Period')\n",
    "ax.set_ylabel('Total Count')\n",
    "ax.set_title('Sentiment Distribution Across Time Periods')\n",
    "ax.set_xticks([i + bar_width for i in index])\n",
    "ax.set_xticklabels(time_periods_unique)\n",
    "ax.legend(title=\"Sentiment\")\n",
    "\n",
    "plt.tight_layout()\n",
    "plt.show()\n"
   ]
  },
  {
   "cell_type": "markdown",
   "id": "18930e93-3752-4d75-a976-cde41d988354",
   "metadata": {},
   "source": [
    "## Query 4"
   ]
  },
  {
   "cell_type": "code",
   "execution_count": 15,
   "id": "839fc3e7-43ca-4a73-8117-e5b268d9b01c",
   "metadata": {},
   "outputs": [
    {
     "name": "stdout",
     "output_type": "stream",
     "text": [
      "+---------+--------------+--------------+-------------+--------------+-------------+-----------+\n",
      "|  Section|    SubSection|negative_count|neutral_count|positive_count|publish_month|total_count|\n",
      "+---------+--------------+--------------+-------------+--------------+-------------+-----------+\n",
      "|     News|        Nation|            67|           39|            84|       2025-3|        190|\n",
      "|AseanPlus|Aseanplus News|             1|            1|             5|       2025-3|          7|\n",
      "|     News|         World|             2|            0|             0|       2025-3|          2|\n",
      "| Business| Business News|             0|            0|             1|       2025-3|          1|\n",
      "+---------+--------------+--------------+-------------+--------------+-------------+-----------+\n",
      "\n"
     ]
    }
   ],
   "source": [
    "#This type of query is very useful for understanding the evolution\n",
    "#of article sentiment and its relation to different Sections and SubSections over time.\n",
    "\n",
    "query = \"\"\"\n",
    "MATCH (n:News)-[:BELONGS_TO]->(ss:SubSection)-[:PART_OF]->(s:Section),\n",
    "      (n)-[:HAS_CATEGORY]->(c:Category),\n",
    "      (n)-[:PUBLISHED_ON]->(t:Time)\n",
    "WITH s.name AS Section, \n",
    "     ss.name AS SubSection, \n",
    "     c.name AS Category, \n",
    "     toString(date(t.date).year) + \"-\" + toString(date(t.date).month) AS publish_month, \n",
    "     COUNT(n) AS total_articles\n",
    "WITH Section, SubSection, publish_month, \n",
    "     SUM(CASE WHEN Category = 'positive' THEN total_articles ELSE 0 END) AS positive_count,\n",
    "     SUM(CASE WHEN Category = 'neutral' THEN total_articles ELSE 0 END) AS neutral_count,\n",
    "     SUM(CASE WHEN Category = 'negative' THEN total_articles ELSE 0 END) AS negative_count,\n",
    "     (SUM(CASE WHEN Category = 'positive' THEN total_articles ELSE 0 END) +\n",
    "      SUM(CASE WHEN Category = 'neutral' THEN total_articles ELSE 0 END) +\n",
    "      SUM(CASE WHEN Category = 'negative' THEN total_articles ELSE 0 END)) AS total_count\n",
    "RETURN Section, SubSection, publish_month, positive_count, neutral_count, negative_count, total_count\n",
    "ORDER BY total_count DESC\n",
    "LIMIT 10\n",
    "\n",
    "\"\"\"\n",
    "df = ng.run_cypher_query(spark, query)\n",
    "df.show()"
   ]
  },
  {
   "cell_type": "code",
   "execution_count": 16,
   "id": "29d4bf95-0a22-4dec-9e4e-e9f8594a208e",
   "metadata": {},
   "outputs": [
    {
     "data": {
      "image/png": "[encoded data removed]",
      "text/plain": [
       "<Figure size 1200x800 with 1 Axes>"
      ]
     },
     "metadata": {},
     "output_type": "display_data"
    }
   ],
   "source": [
    "import matplotlib.pyplot as plt\n",
    "import matplotlib.patches as mpatches\n",
    "\n",
    "# Define the query\n",
    "query = \"\"\"\n",
    "MATCH (n:News)-[:BELONGS_TO]->(ss:SubSection)-[:PART_OF]->(s:Section),\n",
    "      (n)-[:HAS_CATEGORY]->(c:Category),\n",
    "      (n)-[:PUBLISHED_ON]->(t:Time)\n",
    "WITH s.name AS Section, \n",
    "     ss.name AS SubSection, \n",
    "     c.name AS Category, \n",
    "     toString(date(t.date).year) + \"-\" + toString(date(t.date).month) AS publish_month, \n",
    "     COUNT(n) AS total_articles\n",
    "WITH Section, SubSection, publish_month, \n",
    "     SUM(CASE WHEN Category = 'positive' THEN total_articles ELSE 0 END) AS positive_count,\n",
    "     SUM(CASE WHEN Category = 'neutral' THEN total_articles ELSE 0 END) AS neutral_count,\n",
    "     SUM(CASE WHEN Category = 'negative' THEN total_articles ELSE 0 END) AS negative_count,\n",
    "     (SUM(CASE WHEN Category = 'positive' THEN total_articles ELSE 0 END) +\n",
    "      SUM(CASE WHEN Category = 'neutral' THEN total_articles ELSE 0 END) +\n",
    "      SUM(CASE WHEN Category = 'negative' THEN total_articles ELSE 0 END)) AS total_count\n",
    "RETURN Section, SubSection, publish_month, positive_count, neutral_count, negative_count, total_count\n",
    "ORDER BY total_count DESC\n",
    "LIMIT 10\n",
    "\"\"\"\n",
    "\n",
    "# Run the query with the appropriate parameters\n",
    "df = ng.run_cypher_query(spark, query)\n",
    "\n",
    "# Collecting the results for visualization\n",
    "data = df.collect()\n",
    "\n",
    "# Extracting relevant data for plotting\n",
    "sections = [row['Section'] for row in data]\n",
    "subsections = [row['SubSection'] for row in data]\n",
    "publish_months = [row['publish_month'] for row in data]\n",
    "positive_counts = [row['positive_count'] for row in data]\n",
    "neutral_counts = [row['neutral_count'] for row in data]\n",
    "negative_counts = [row['negative_count'] for row in data]\n",
    "total_counts = [row['total_count'] for row in data]\n",
    "\n",
    "# Prepare data for plotting\n",
    "labels = [f\"{section} - {subsection} ({month})\" for section, subsection, month in zip(sections, subsections, publish_months)]\n",
    "\n",
    "# Plotting the data\n",
    "plt.figure(figsize=(12, 8))  # Set the figure size\n",
    "bar_width = 0.3  # Width of the bars for grouping\n",
    "index = range(len(labels))\n",
    "\n",
    "# Plotting each sentiment category with different colors\n",
    "plt.barh(index, positive_counts, color='lightgreen', label='Positive', height=bar_width)\n",
    "plt.barh([i + bar_width for i in index], neutral_counts, color='lightgray', label='Neutral', height=bar_width)\n",
    "plt.barh([i + 2 * bar_width for i in index], negative_counts, color='lightcoral', label='Negative', height=bar_width)\n",
    "\n",
    "# Adding labels and title\n",
    "plt.xlabel('Number of Articles')\n",
    "plt.ylabel('Section/SubSection and Publish Month')\n",
    "plt.title('Sentiment Distribution by Section/SubSection and Publish Month')\n",
    "plt.yticks([i + bar_width for i in index], labels)  # Adjust the y-ticks to match the labels\n",
    "plt.tight_layout()\n",
    "\n",
    "# Add a legend to explain the color coding\n",
    "plt.legend(title=\"Sentiment\", loc=\"upper right\")\n",
    "\n",
    "# Show the plot\n",
    "plt.show()\n"
   ]
  },
  {
   "cell_type": "markdown",
   "id": "38b08c67-d171-4c42-b3fd-7045d30bd6b5",
   "metadata": {},
   "source": [
    "## Query 5"
   ]
  },
  {
   "cell_type": "code",
   "execution_count": 17,
   "id": "60db141a-4f5c-4f31-8066-2430bbda5790",
   "metadata": {},
   "outputs": [
    {
     "name": "stdout",
     "output_type": "stream",
     "text": [
      "+------------------+---------+-----------+----------+\n",
      "|          location|sentiment|total_count|      word|\n",
      "+------------------+---------+-----------+----------+\n",
      "|      KUALA LUMPUR| positive|          5|      raya|\n",
      "|      KUALA LUMPUR| positive|          4|     urges|\n",
      "|Location not found| positive|          3|  malaysia|\n",
      "|     PETALING JAYA| positive|          3|      hari|\n",
      "|      KUALA LUMPUR| positive|          3|       pkr|\n",
      "|      KUALA LUMPUR| positive|          3|     fahmi|\n",
      "|              IPOH|  neutral|          3|     perak|\n",
      "|     PETALING JAYA| positive|          3|   myanmar|\n",
      "|      KUALA LUMPUR| positive|          3|   harmony|\n",
      "|     PETALING JAYA| positive|          2|        pm|\n",
      "|      KUALA LUMPUR| positive|          2|   myanmar|\n",
      "|      KUALA LUMPUR| positive|          2|     force|\n",
      "|     PETALING JAYA| positive|          2|     anwar|\n",
      "|      KUALA LUMPUR| positive|          2|      post|\n",
      "|      KUALA LUMPUR| positive|          2|malaysians|\n",
      "|Location not found| positive|          2| indonesia|\n",
      "|      KUALA LUMPUR| positive|          2|  ministry|\n",
      "|     PETALING JAYA| positive|          2|    quake:|\n",
      "|  KUALA TERENGGANU| positive|          2|terengganu|\n",
      "|      KUALA LUMPUR| positive|          2|  expected|\n",
      "+------------------+---------+-----------+----------+\n",
      "\n"
     ]
    }
   ],
   "source": [
    "# This output will show you the most frequent keywords (from the titles) by location and sentiment (positive, neutral, and negative).\n",
    "\n",
    "# Load stop words from the stop_words.txt file\n",
    "with open('stop_words.txt', 'r') as f:\n",
    "    stop_words = f.read().splitlines()  # Read and split each line into a list\n",
    "\n",
    "# Define the Cypher query with a placeholder for the stop words\n",
    "query = \"\"\"\n",
    "MATCH (n:News)-[:REPORTED_IN]->(l:Location),\n",
    "      (n)-[:HAS_CATEGORY]->(c:Category)\n",
    "WITH l.name AS location, \n",
    "     c.name AS sentiment, \n",
    "     split(toLower(n.title), ' ') AS words,\n",
    "     COUNT(n) AS article_count\n",
    "UNWIND words AS word\n",
    "WITH location, sentiment, word, article_count\n",
    "WHERE word IS NOT NULL \n",
    "  AND word <> \"\" \n",
    "  AND NOT word IN $stop_words  // Exclude stop words dynamically\n",
    "WITH location, sentiment, word, SUM(article_count) AS total_count\n",
    "ORDER BY total_count DESC\n",
    "RETURN location, sentiment, word, total_count\n",
    "LIMIT 20\n",
    "\"\"\"\n",
    "\n",
    "# Pass the stop words as a parameter to the query\n",
    "parameters = {'stop_words': stop_words}\n",
    "\n",
    "# Run the query using the `ng` class\n",
    "df = ng.run_cypher_query(spark, query, parameters)\n",
    "df.show()\n"
   ]
  },
  {
   "cell_type": "markdown",
   "id": "7e552c52-83ef-4f60-9f73-33bc495d4b60",
   "metadata": {},
   "source": [
    "## Query 6"
   ]
  },
  {
   "cell_type": "code",
   "execution_count": 18,
   "id": "9d1f7780-a5e6-41f3-9756-15c140242444",
   "metadata": {},
   "outputs": [
    {
     "data": {
      "image/png": "[encoded data removed]",
      "text/plain": [
       "<Figure size 1200x600 with 1 Axes>"
      ]
     },
     "metadata": {},
     "output_type": "display_data"
    }
   ],
   "source": [
    "##This allows you to quickly see how news distribution varies by \n",
    "#location and sentiment. The plot also includes a legend to easily distinguish between the sentiments.\n",
    "\n",
    "import matplotlib.pyplot as plt\n",
    "import matplotlib.patches as mpatches\n",
    "\n",
    "# Define the query\n",
    "query = \"\"\"\n",
    "MATCH (n:News)-[:REPORTED_IN]->(l:Location),\n",
    "      (n)-[:HAS_CATEGORY]->(c:Category)\n",
    "WITH l.name AS location, \n",
    "     c.name AS sentiment, \n",
    "     COUNT(n) AS article_count\n",
    "WITH location, sentiment, SUM(article_count) AS total_count\n",
    "ORDER BY total_count DESC\n",
    "RETURN location, sentiment, total_count\n",
    "LIMIT 20\n",
    "\"\"\"\n",
    "\n",
    "# Load stop words from a file (adjust the file path if necessary)\n",
    "with open('stop_words.txt', 'r') as file:\n",
    "    stop_words = [line.strip() for line in file.readlines()]\n",
    "\n",
    "# Run the query with the stop words parameter\n",
    "parameters = {'stop_words': stop_words}\n",
    "df = ng.run_cypher_query(spark, query, parameters)\n",
    "\n",
    "# Collect results from the PySpark DataFrame to the driver node\n",
    "locations = df.collect()\n",
    "\n",
    "# Extract location names, sentiment, and their corresponding counts\n",
    "location_names = [row['location'] for row in locations]\n",
    "sentiments = [row['sentiment'] for row in locations]\n",
    "total_counts = [row['total_count'] for row in locations]\n",
    "\n",
    "# Prepare data for plotting\n",
    "# Assign colors based on sentiment\n",
    "colors = []\n",
    "for sentiment in sentiments:\n",
    "    if sentiment == 'positive':\n",
    "        colors.append('lightgreen')  # Color for positive sentiment\n",
    "    elif sentiment == 'neutral':\n",
    "        colors.append('lightgray')   # Color for neutral sentiment\n",
    "    else:\n",
    "        colors.append('lightcoral')  # Color for negative sentiment\n",
    "\n",
    "# Plotting the data\n",
    "plt.figure(figsize=(12, 6))  # Set the figure size (optional)\n",
    "bars = plt.barh(location_names, total_counts, color=colors)  # Horizontal bar chart for better readability\n",
    "\n",
    "# Add the title and labels\n",
    "plt.title('News Distribution by Location and Sentiment')\n",
    "plt.xlabel('Total Count')\n",
    "plt.ylabel('Locations')\n",
    "\n",
    "# Create a legend with the colors representing sentiment categories\n",
    "legend_labels = {\n",
    "    'Positive': 'lightgreen',\n",
    "    'Neutral': 'lightgray',\n",
    "    'Negative': 'lightcoral'\n",
    "}\n",
    "\n",
    "# Create patches for each sentiment and add them to the legend\n",
    "handles = [mpatches.Patch(color=color, label=label) for label, color in legend_labels.items()]\n",
    "plt.legend(handles=handles, title=\"Sentiment\")\n",
    "\n",
    "# Adjust the layout to ensure everything fits\n",
    "plt.tight_layout()\n",
    "plt.show()\n"
   ]
  },
  {
   "cell_type": "markdown",
   "id": "86be5ad5-dec9-4c7b-a078-1cb2264a6696",
   "metadata": {},
   "source": [
    "## Query 7"
   ]
  },
  {
   "cell_type": "code",
   "execution_count": 32,
   "id": "3d3d494d-18a6-434f-81b3-6a9cce48c66b",
   "metadata": {},
   "outputs": [
    {
     "name": "stdin",
     "output_type": "stream",
     "text": [
      "Enter the keyword to search:  communist\n"
     ]
    },
    {
     "data": {
      "image/png": "[encoded data removed]",
      "text/plain": [
       "<Figure size 1200x600 with 1 Axes>"
      ]
     },
     "metadata": {},
     "output_type": "display_data"
    }
   ],
   "source": [
    "#This functionality allows business analysts to search for specific keywords in news articles and visualize their distribution across different locations,\n",
    "#with sentiment breakdowns, to gain insights into how the keyword is perceived in various regions over time.\n",
    "\n",
    "import matplotlib.pyplot as plt\n",
    "import matplotlib.patches as mpatches\n",
    "\n",
    "# Function to run the query and get the data\n",
    "def search_and_visualize_keyword(keyword):\n",
    "    # Define the Cypher query with the keyword placeholder\n",
    "    query = \"\"\"\n",
    "    MATCH (n:News)-[:REPORTED_IN]->(l:Location),\n",
    "          (n)-[:HAS_CATEGORY]->(c:Category)\n",
    "    WITH l.name AS location, \n",
    "         c.name AS sentiment, \n",
    "         split(toLower(n.title), ' ') AS words,\n",
    "         COUNT(n) AS article_count\n",
    "    UNWIND words AS word\n",
    "    WITH location, sentiment, word, article_count\n",
    "    WHERE word IS NOT NULL \n",
    "      AND word <> \"\" \n",
    "      AND NOT word IN $stop_words\n",
    "      AND word CONTAINS $keyword  // Search for the keyword\n",
    "    WITH location, sentiment, word, SUM(article_count) AS total_count\n",
    "    ORDER BY total_count DESC\n",
    "    RETURN location, sentiment, word, total_count\n",
    "    LIMIT 20\n",
    "    \"\"\"\n",
    "\n",
    "    # Prompt for the stop words (you can replace this with a file if needed)\n",
    "    with open('stop_words.txt', 'r') as file:\n",
    "        stop_words = file.read().splitlines()\n",
    "\n",
    "    # Set parameters for the query\n",
    "    parameters = {'keyword': keyword, 'stop_words': stop_words}\n",
    "\n",
    "    # Run the query using the ng class\n",
    "    df = ng.run_cypher_query(spark, query, parameters)\n",
    "\n",
    "    # Collect results from the PySpark DataFrame to the driver node\n",
    "    locations = df.collect()\n",
    "\n",
    "    # Extract the results\n",
    "    location_names = [row['location'] for row in locations]\n",
    "    words = [row['word'] for row in locations]\n",
    "    sentiments = [row['sentiment'] for row in locations]\n",
    "    total_counts = [row['total_count'] for row in locations]\n",
    "\n",
    "    # Visualize the results\n",
    "    plt.figure(figsize=(12, 6))\n",
    "\n",
    "    # Plotting the data as a horizontal bar chart\n",
    "    bars = plt.barh(location_names, total_counts, color='lightblue', edgecolor='black')\n",
    "\n",
    "    # Adding labels and title\n",
    "    plt.xlabel('Total Count of Keyword')\n",
    "    plt.ylabel('Locations')\n",
    "    plt.title(f'Distribution of Keyword \"{keyword}\" Count Across Locations')\n",
    "\n",
    "    # Create a legend for sentiment\n",
    "    sentiment_colors = {'positive': 'lightgreen', 'neutral': 'lightgray', 'negative': 'lightcoral'}\n",
    "    handles = [mpatches.Patch(color=color, label=label) for label, color in sentiment_colors.items()]\n",
    "    plt.legend(handles=handles, title=\"Sentiment\")\n",
    "\n",
    "    # Assign colors based on sentiment\n",
    "    for i, bar in enumerate(bars):\n",
    "        sentiment = sentiments[i]\n",
    "        if sentiment == 'positive':\n",
    "            bar.set_color('lightgreen')\n",
    "        elif sentiment == 'neutral':\n",
    "            bar.set_color('lightgray')\n",
    "        else:\n",
    "            bar.set_color('lightcoral')\n",
    "\n",
    "    # Adjust layout\n",
    "    plt.tight_layout()\n",
    "    plt.show()\n",
    "\n",
    "# Example usage\n",
    "keyword = input(\"Enter the keyword to search: \")\n",
    "search_and_visualize_keyword(keyword)\n"
   ]
  },
  {
   "cell_type": "markdown",
   "id": "5fa72cbc-ccde-4b27-8818-0d0171a999b8",
   "metadata": {},
   "source": [
    "## ----------------------------------------------------------------------------------------------------------------------"
   ]
  },
  {
   "cell_type": "code",
   "execution_count": 33,
   "id": "44977a18-e7b2-4654-bfba-2abab33556a5",
   "metadata": {},
   "outputs": [
    {
     "name": "stderr",
     "output_type": "stream",
     "text": [
      "Received notification from DBMS server: {severity: WARNING} {code: Neo.ClientNotification.Statement.FeatureDeprecationWarning} {category: DEPRECATION} {title: This feature is deprecated and will be removed in future versions.} {description: The query used a deprecated function: `id`.} {position: line: 4, column: 7, offset: 138} for query: '\\nMATCH (n1:News)-[:REPORTED_IN]->(l:Location)<-[:REPORTED_IN]-(n2:News),\\n      (n1)-[:PUBLISHED_ON]->(t:Time)<-[:PUBLISHED_ON]-(n2)\\nWHERE id(n1) < id(n2)\\nRETURN n1.title AS News1, \\n       n2.title AS News2, \\n       l.name AS location, \\n       date(t.date).year AS publish_year,\\n       date(t.date).month AS publish_month,\\n       date(t.date).day AS publish_day\\n\\n'\n",
      "Received notification from DBMS server: {severity: WARNING} {code: Neo.ClientNotification.Statement.FeatureDeprecationWarning} {category: DEPRECATION} {title: This feature is deprecated and will be removed in future versions.} {description: The query used a deprecated function: `id`.} {position: line: 4, column: 16, offset: 147} for query: '\\nMATCH (n1:News)-[:REPORTED_IN]->(l:Location)<-[:REPORTED_IN]-(n2:News),\\n      (n1)-[:PUBLISHED_ON]->(t:Time)<-[:PUBLISHED_ON]-(n2)\\nWHERE id(n1) < id(n2)\\nRETURN n1.title AS News1, \\n       n2.title AS News2, \\n       l.name AS location, \\n       date(t.date).year AS publish_year,\\n       date(t.date).month AS publish_month,\\n       date(t.date).day AS publish_day\\n\\n'\n"
     ]
    },
    {
     "name": "stdout",
     "output_type": "stream",
     "text": [
      "+--------------------+--------------------+------------------+-----------+-------------+------------+\n",
      "|               News1|               News2|          location|publish_day|publish_month|publish_year|\n",
      "+--------------------+--------------------+------------------+-----------+-------------+------------+\n",
      "|Two films blocked...|Malaysians report...|      KUALA LUMPUR|         21|            3|        2025|\n",
      "|Two films blocked...|Former Sabah mini...|      KUALA LUMPUR|         21|            3|        2025|\n",
      "|Malaysians report...|Former Sabah mini...|      KUALA LUMPUR|         21|            3|        2025|\n",
      "|Malaysia ranked a...|Heathrow shutdown...|Location not found|         21|            3|        2025|\n",
      "|Over 70,000 cattl...|Kelantan gov't to...|        KOTA BHARU|         13|            3|        2025|\n",
      "|Community service...|Al-Sultan Abdulla...| CAMERON HIGHLANDS|         13|            3|        2025|\n",
      "|Cops probing vide...|Nanta wants swift...|      KUALA LUMPUR|         26|            3|        2025|\n",
      "|Cops probing vide...|M'sia can play mo...|      KUALA LUMPUR|         26|            3|        2025|\n",
      "|Nanta wants swift...|M'sia can play mo...|      KUALA LUMPUR|         26|            3|        2025|\n",
      "|Cops probing vide...|Enhance unity, ha...|      KUALA LUMPUR|         26|            3|        2025|\n",
      "|Nanta wants swift...|Enhance unity, ha...|      KUALA LUMPUR|         26|            3|        2025|\n",
      "|M'sia can play mo...|Enhance unity, ha...|      KUALA LUMPUR|         26|            3|        2025|\n",
      "|Cops probing vide...|Anwar the best 's...|      KUALA LUMPUR|         26|            3|        2025|\n",
      "|Nanta wants swift...|Anwar the best 's...|      KUALA LUMPUR|         26|            3|        2025|\n",
      "|M'sia can play mo...|Anwar the best 's...|      KUALA LUMPUR|         26|            3|        2025|\n",
      "|Enhance unity, ha...|Anwar the best 's...|      KUALA LUMPUR|         26|            3|        2025|\n",
      "|Raya rush: Traffi...|No action against...|      KUALA LUMPUR|         28|            3|        2025|\n",
      "|Myanmar quake: Ma...|Myanmar quake: Ma...|     PETALING JAYA|         28|            3|        2025|\n",
      "|Family heading ho...|Hajiji blasts War...|     KOTA KINABALU|         28|            3|        2025|\n",
      "|Raya rush: Traffi...|No flight cancell...|      KUALA LUMPUR|         28|            3|        2025|\n",
      "+--------------------+--------------------+------------------+-----------+-------------+------------+\n",
      "only showing top 20 rows\n",
      "\n"
     ]
    }
   ],
   "source": [
    "query = \"\"\"\n",
    "MATCH (n1:News)-[:REPORTED_IN]->(l:Location)<-[:REPORTED_IN]-(n2:News),\n",
    "      (n1)-[:PUBLISHED_ON]->(t:Time)<-[:PUBLISHED_ON]-(n2)\n",
    "WHERE id(n1) < id(n2)\n",
    "RETURN n1.title AS News1, \n",
    "       n2.title AS News2, \n",
    "       l.name AS location, \n",
    "       date(t.date).year AS publish_year,\n",
    "       date(t.date).month AS publish_month,\n",
    "       date(t.date).day AS publish_day\n",
    "\n",
    "\"\"\"\n",
    "df = ng.run_cypher_query(spark, query)\n",
    "df.show()"
   ]
  },
  {
   "cell_type": "code",
   "execution_count": 34,
   "id": "8fcc17ab-cbdd-4756-a02e-2ffb7d3dc09d",
   "metadata": {},
   "outputs": [
    {
     "name": "stderr",
     "output_type": "stream",
     "text": [
      "Received notification from DBMS server: {severity: WARNING} {code: Neo.ClientNotification.Statement.FeatureDeprecationWarning} {category: DEPRECATION} {title: This feature is deprecated and will be removed in future versions.} {description: The query used a deprecated function: `id`.} {position: line: 4, column: 7, offset: 138} for query: '\\nMATCH (n1:News)-[:REPORTED_IN]->(l:Location)<-[:REPORTED_IN]-(n2:News),\\n      (n1)-[:PUBLISHED_ON]->(t:Time)<-[:PUBLISHED_ON]-(n2)\\nWHERE id(n1) < id(n2)\\nRETURN n1.title AS News1, \\n       n2.title AS News2, \\n       l.name AS location, \\n       date(t.date).year AS publish_year,\\n       date(t.date).month AS publish_month,\\n       date(t.date).day AS publish_day,\\n       datetime(t.date + \"T00:00:00\").hour AS publish_hour\\n'\n",
      "Received notification from DBMS server: {severity: WARNING} {code: Neo.ClientNotification.Statement.FeatureDeprecationWarning} {category: DEPRECATION} {title: This feature is deprecated and will be removed in future versions.} {description: The query used a deprecated function: `id`.} {position: line: 4, column: 16, offset: 147} for query: '\\nMATCH (n1:News)-[:REPORTED_IN]->(l:Location)<-[:REPORTED_IN]-(n2:News),\\n      (n1)-[:PUBLISHED_ON]->(t:Time)<-[:PUBLISHED_ON]-(n2)\\nWHERE id(n1) < id(n2)\\nRETURN n1.title AS News1, \\n       n2.title AS News2, \\n       l.name AS location, \\n       date(t.date).year AS publish_year,\\n       date(t.date).month AS publish_month,\\n       date(t.date).day AS publish_day,\\n       datetime(t.date + \"T00:00:00\").hour AS publish_hour\\n'\n"
     ]
    },
    {
     "name": "stdout",
     "output_type": "stream",
     "text": [
      "+--------------------+--------------------+------------------+-----------+------------+-------------+------------+\n",
      "|               News1|               News2|          location|publish_day|publish_hour|publish_month|publish_year|\n",
      "+--------------------+--------------------+------------------+-----------+------------+-------------+------------+\n",
      "|Two films blocked...|Malaysians report...|      KUALA LUMPUR|         21|           0|            3|        2025|\n",
      "|Two films blocked...|Former Sabah mini...|      KUALA LUMPUR|         21|           0|            3|        2025|\n",
      "|Malaysians report...|Former Sabah mini...|      KUALA LUMPUR|         21|           0|            3|        2025|\n",
      "|Malaysia ranked a...|Heathrow shutdown...|Location not found|         21|           0|            3|        2025|\n",
      "|Over 70,000 cattl...|Kelantan gov't to...|        KOTA BHARU|         13|           0|            3|        2025|\n",
      "|Community service...|Al-Sultan Abdulla...| CAMERON HIGHLANDS|         13|           0|            3|        2025|\n",
      "|Cops probing vide...|Nanta wants swift...|      KUALA LUMPUR|         26|           0|            3|        2025|\n",
      "|Cops probing vide...|M'sia can play mo...|      KUALA LUMPUR|         26|           0|            3|        2025|\n",
      "|Nanta wants swift...|M'sia can play mo...|      KUALA LUMPUR|         26|           0|            3|        2025|\n",
      "|Cops probing vide...|Enhance unity, ha...|      KUALA LUMPUR|         26|           0|            3|        2025|\n",
      "|Nanta wants swift...|Enhance unity, ha...|      KUALA LUMPUR|         26|           0|            3|        2025|\n",
      "|M'sia can play mo...|Enhance unity, ha...|      KUALA LUMPUR|         26|           0|            3|        2025|\n",
      "|Cops probing vide...|Anwar the best 's...|      KUALA LUMPUR|         26|           0|            3|        2025|\n",
      "|Nanta wants swift...|Anwar the best 's...|      KUALA LUMPUR|         26|           0|            3|        2025|\n",
      "|M'sia can play mo...|Anwar the best 's...|      KUALA LUMPUR|         26|           0|            3|        2025|\n",
      "|Enhance unity, ha...|Anwar the best 's...|      KUALA LUMPUR|         26|           0|            3|        2025|\n",
      "|Raya rush: Traffi...|No action against...|      KUALA LUMPUR|         28|           0|            3|        2025|\n",
      "|Myanmar quake: Ma...|Myanmar quake: Ma...|     PETALING JAYA|         28|           0|            3|        2025|\n",
      "|Family heading ho...|Hajiji blasts War...|     KOTA KINABALU|         28|           0|            3|        2025|\n",
      "|Raya rush: Traffi...|No flight cancell...|      KUALA LUMPUR|         28|           0|            3|        2025|\n",
      "+--------------------+--------------------+------------------+-----------+------------+-------------+------------+\n",
      "only showing top 20 rows\n",
      "\n"
     ]
    }
   ],
   "source": [
    "query = \"\"\"\n",
    "MATCH (n1:News)-[:REPORTED_IN]->(l:Location)<-[:REPORTED_IN]-(n2:News),\n",
    "      (n1)-[:PUBLISHED_ON]->(t:Time)<-[:PUBLISHED_ON]-(n2)\n",
    "WHERE id(n1) < id(n2)\n",
    "RETURN n1.title AS News1, \n",
    "       n2.title AS News2, \n",
    "       l.name AS location, \n",
    "       date(t.date).year AS publish_year,\n",
    "       date(t.date).month AS publish_month,\n",
    "       date(t.date).day AS publish_day,\n",
    "       datetime(t.date + \"T00:00:00\").hour AS publish_hour\n",
    "\"\"\"\n",
    "df = ng.run_cypher_query(spark, query)\n",
    "df.show()\n"
   ]
  },
  {
   "cell_type": "code",
   "execution_count": 35,
   "id": "cc30aa01-de83-490e-b1c0-e9717f3d4284",
   "metadata": {
    "scrolled": true
   },
   "outputs": [
    {
     "name": "stdout",
     "output_type": "stream",
     "text": [
      "+------------------+----------+\n",
      "|          location|news_count|\n",
      "+------------------+----------+\n",
      "|      KUALA LUMPUR|        62|\n",
      "|     PETALING JAYA|        18|\n",
      "|     KOTA KINABALU|        12|\n",
      "|Location not found|        10|\n",
      "|        JOHOR BARU|         8|\n",
      "|              IPOH|         8|\n",
      "|         SHAH ALAM|         7|\n",
      "|            MELAKA|         6|\n",
      "|         PUTRAJAYA|         5|\n",
      "|        KOTA BHARU|         4|\n",
      "|             KLANG|         4|\n",
      "|       GEORGE TOWN|         4|\n",
      "|  KUALA TERENGGANU|         4|\n",
      "|         KOTA BARU|         3|\n",
      "|          SEREMBAN|         3|\n",
      "|            TAMPIN|         2|\n",
      "|            SEPANG|         2|\n",
      "|           KUANTAN|         2|\n",
      "|        ALOR GAJAH|         2|\n",
      "|              SIBU|         2|\n",
      "+------------------+----------+\n",
      "only showing top 20 rows\n",
      "\n"
     ]
    }
   ],
   "source": [
    "query = \"\"\"\n",
    "MATCH (n:News)-[:REPORTED_IN]->(l:Location)\n",
    "RETURN l.name AS location, COUNT(n) AS news_count ORDER BY news_count DESC\n",
    "\"\"\"\n",
    "\n",
    "df = ng.run_cypher_query(spark, query)\n",
    "df.show()"
   ]
  },
  {
   "cell_type": "code",
   "execution_count": 36,
   "id": "1ce2b7e9-dc0c-40f5-8306-fd727563ad09",
   "metadata": {},
   "outputs": [
    {
     "name": "stdout",
     "output_type": "stream",
     "text": [
      "+------------+--------------+\n",
      "|ArticleCount|    SubSection|\n",
      "+------------+--------------+\n",
      "|         190|        Nation|\n",
      "|           7|Aseanplus News|\n",
      "|           2|         World|\n",
      "|           1| Business News|\n",
      "+------------+--------------+\n",
      "\n"
     ]
    }
   ],
   "source": [
    "query = \"\"\"\n",
    "MATCH (n:News)-[:BELONGS_TO]->(ss:SubSection)\n",
    "RETURN ss.name AS SubSection, COUNT(n) AS ArticleCount\n",
    "ORDER BY ArticleCount DESC\n",
    "\"\"\"\n",
    "\n",
    "df = ng.run_cypher_query(spark, query)\n",
    "df.show()"
   ]
  },
  {
   "cell_type": "code",
   "execution_count": 37,
   "id": "91839d4f-310e-4dc0-b248-8357a2411937",
   "metadata": {},
   "outputs": [
    {
     "name": "stdout",
     "output_type": "stream",
     "text": [
      "+--------+-----+-------+----------+\n",
      "|Category|Count|Section|SubSection|\n",
      "+--------+-----+-------+----------+\n",
      "|positive|   84|   News|    Nation|\n",
      "|negative|   67|   News|    Nation|\n",
      "| neutral|   39|   News|    Nation|\n",
      "+--------+-----+-------+----------+\n",
      "\n"
     ]
    }
   ],
   "source": [
    "#Co-occurrence of Section, SubSection, and Category\n",
    "query = \"\"\"\n",
    "MATCH (n:News)-[:BELONGS_TO]->(ss:SubSection)-[:PART_OF]->(s:Section)\n",
    "MATCH (n)-[:HAS_CATEGORY]->(c:Category)\n",
    "WITH s.name AS Section, ss.name AS SubSection, c.name AS Category, COUNT(n) AS Count\n",
    "WHERE Count > 5  // Filter to show only strong co-occurrences\n",
    "RETURN Section, SubSection, Category, Count\n",
    "ORDER BY Count DESC\n",
    "\"\"\"\n",
    "df = ng.run_cypher_query(spark, query)\n",
    "df.show()"
   ]
  },
  {
   "cell_type": "code",
   "execution_count": 38,
   "id": "e47108cc-4a0d-4244-bc61-11cdeec393fb",
   "metadata": {},
   "outputs": [
    {
     "name": "stdout",
     "output_type": "stream",
     "text": [
      "+--------+-----+-------+----------+\n",
      "|Category|Count|Section|SubSection|\n",
      "+--------+-----+-------+----------+\n",
      "|positive|   84|   News|    Nation|\n",
      "|negative|   67|   News|    Nation|\n",
      "| neutral|   39|   News|    Nation|\n",
      "+--------+-----+-------+----------+\n",
      "\n"
     ]
    }
   ],
   "source": [
    "#Co-occurrence of Section, SubSection, and Category\n",
    "query = \"\"\"\n",
    "MATCH (n:News)-[:BELONGS_TO]->(ss:SubSection)-[:PART_OF]->(s:Section)\n",
    "MATCH (n)-[:HAS_CATEGORY]->(c:Category)\n",
    "WITH s.name AS Section, ss.name AS SubSection, c.name AS Category, COUNT(n) AS Count\n",
    "WHERE Count > 5  // Filter to show only strong co-occurrences\n",
    "RETURN Section, SubSection, Category, Count\n",
    "ORDER BY Count DESC\n",
    "\"\"\"\n",
    "df = ng.run_cypher_query(spark, query)\n",
    "df.show()\n",
    "\n",
    "#This part of the query finds how often certain sections, subsections, and categories co-occur.\n",
    "#The WHERE Count > 5 filter ensures that only significant co-occurrences are returned.\n",
    "#This can reveal patterns in how different types of content (e.g., \"Politics\" section and \"Election\" category) often appear together."
   ]
  },
  {
   "cell_type": "code",
   "execution_count": 39,
   "id": "135c20d7-afe8-43f1-a23d-3afa3837b557",
   "metadata": {},
   "outputs": [
    {
     "name": "stdout",
     "output_type": "stream",
     "text": [
      "+--------+----------------+---------+--------------+\n",
      "|Category|NumberOfArticles|  Section|    SubSection|\n",
      "+--------+----------------+---------+--------------+\n",
      "|positive|              84|     News|        Nation|\n",
      "|negative|              67|     News|        Nation|\n",
      "| neutral|              39|     News|        Nation|\n",
      "|positive|               5|AseanPlus|Aseanplus News|\n",
      "+--------+----------------+---------+--------------+\n",
      "\n"
     ]
    }
   ],
   "source": [
    "#Clustering Articles Based on Section, SubSection, and Category\n",
    "query = \"\"\"\n",
    "MATCH (n:News)-[:BELONGS_TO]->(ss:SubSection)-[:PART_OF]->(s:Section)\n",
    "MATCH (n)-[:HAS_CATEGORY]->(c:Category)\n",
    "WITH s.name AS Section, ss.name AS SubSection, c.name AS Category, COUNT(n) AS NumberOfArticles\n",
    "ORDER BY NumberOfArticles DESC\n",
    "WITH Section, SubSection, Category, NumberOfArticles\n",
    "WHERE NumberOfArticles > 2\n",
    "RETURN Section, SubSection, Category, NumberOfArticles\n",
    "ORDER BY NumberOfArticles DESC\n",
    "\"\"\"\n",
    "df = ng.run_cypher_query(spark, query)\n",
    "df.show()\n",
    "\n",
    "#Clustering Articles Based on Section, SubSection, and Category:\n",
    "#This query performs clustering based on multiple properties (section, subsection, and category), helping to identify articles that share similar characteristics.\n",
    "#It looks for strong clusters that might indicate patterns in how content is grouped."
   ]
  },
  {
   "cell_type": "code",
   "execution_count": 40,
   "id": "2af4f5b9-99f6-4e28-81b0-ec4d7c347ff7",
   "metadata": {},
   "outputs": [
    {
     "name": "stdout",
     "output_type": "stream",
     "text": [
      "+------------+--------+------------------+\n",
      "|ArticleCount|Category|          Location|\n",
      "+------------+--------+------------------+\n",
      "|          33|positive|      KUALA LUMPUR|\n",
      "|          20|negative|      KUALA LUMPUR|\n",
      "|          12|positive|     PETALING JAYA|\n",
      "|           9| neutral|      KUALA LUMPUR|\n",
      "|           6|positive|Location not found|\n",
      "|           6|negative|     KOTA KINABALU|\n",
      "|           5| neutral|              IPOH|\n",
      "|           4|negative|       GEORGE TOWN|\n",
      "|           4|positive|     KOTA KINABALU|\n",
      "|           4|positive|         SHAH ALAM|\n",
      "+------------+--------+------------------+\n",
      "\n"
     ]
    }
   ],
   "source": [
    "#Query to Find the Most Reported Locations and Their Corresponding Categories\n",
    "query = \"\"\"\n",
    "MATCH (n:News)-[:REPORTED_IN]->(l:Location),\n",
    "      (n)-[:HAS_CATEGORY]->(c:Category)\n",
    "RETURN l.name AS Location,\n",
    "       c.name AS Category,\n",
    "       COUNT(n) AS ArticleCount\n",
    "ORDER BY ArticleCount DESC\n",
    "LIMIT 10\n",
    "\"\"\"\n",
    "df = ng.run_cypher_query(spark, query)\n",
    "df.show()\n",
    "#This query shows the most reported locations along with their associated categories, providing an overview of what topics are being discussed where.\n"
   ]
  },
  {
   "cell_type": "code",
   "execution_count": 41,
   "id": "7f57c9ac-07be-4d36-bd2e-79777815410e",
   "metadata": {
    "scrolled": true
   },
   "outputs": [
    {
     "name": "stdout",
     "output_type": "stream",
     "text": [
      "+--------+-------------+---------+--------------+\n",
      "|Category|CategoryCount|  Section|    SubSection|\n",
      "+--------+-------------+---------+--------------+\n",
      "|positive|            5|AseanPlus|Aseanplus News|\n",
      "| neutral|            1|AseanPlus|Aseanplus News|\n",
      "|negative|            1|AseanPlus|Aseanplus News|\n",
      "|positive|            1| Business| Business News|\n",
      "|positive|           84|     News|        Nation|\n",
      "|negative|           67|     News|        Nation|\n",
      "| neutral|           39|     News|        Nation|\n",
      "|negative|            2|     News|         World|\n",
      "+--------+-------------+---------+--------------+\n",
      "\n"
     ]
    }
   ],
   "source": [
    "#Categories and Their Impact in Each Section and Subsection\n",
    "query = \"\"\"\n",
    "MATCH (n:News)-[:HAS_CATEGORY]->(c:Category), (n)-[:BELONGS_TO]->(ss:SubSection)-[:PART_OF]->(s:Section)\n",
    "RETURN s.name AS Section, ss.name AS SubSection, c.name AS Category, COUNT(n) AS CategoryCount\n",
    "ORDER BY Section, SubSection, CategoryCount DESC\n",
    "\"\"\"\n",
    "df = ng.run_cypher_query(spark, query)\n",
    "df.show()\n",
    "#This query helps understand which categories are most frequent in each section and subsection, \n",
    "#which can reveal which sections/subsections are more likely to publish certain types of articles.\n"
   ]
  },
  {
   "cell_type": "code",
   "execution_count": 42,
   "id": "39900721-4dd0-4517-ad14-55b14cd18409",
   "metadata": {
    "scrolled": true
   },
   "outputs": [
    {
     "name": "stdout",
     "output_type": "stream",
     "text": [
      "+--------+-------------+---------+--------------+\n",
      "|Category|CategoryCount|Section  |SubSection    |\n",
      "+--------+-------------+---------+--------------+\n",
      "|positive|5            |AseanPlus|Aseanplus News|\n",
      "|neutral |1            |AseanPlus|Aseanplus News|\n",
      "|negative|1            |AseanPlus|Aseanplus News|\n",
      "|positive|1            |Business |Business News |\n",
      "|positive|84           |News     |Nation        |\n",
      "|negative|67           |News     |Nation        |\n",
      "|neutral |39           |News     |Nation        |\n",
      "|negative|2            |News     |World         |\n",
      "+--------+-------------+---------+--------------+\n",
      "\n"
     ]
    }
   ],
   "source": [
    "df.show(truncate=False)\n"
   ]
  },
  {
   "cell_type": "code",
   "execution_count": 43,
   "id": "c8fa57b1-1670-4e30-9d4e-6bdc5518c2d3",
   "metadata": {},
   "outputs": [
    {
     "name": "stdout",
     "output_type": "stream",
     "text": [
      "+------------+--------+----------+------------+-----------+---------+\n",
      "|ArticleCount|Category|PublishDay|PublishMonth|PublishYear|  Section|\n",
      "+------------+--------+----------+------------+-----------+---------+\n",
      "|           6|negative|        31|          03|       2025|     News|\n",
      "|           3|positive|        31|          03|       2025|     News|\n",
      "|           1| neutral|        31|          03|       2025|     News|\n",
      "|           2|negative|        30|          03|       2025|     News|\n",
      "|           7|positive|        30|          03|       2025|     News|\n",
      "|           1| neutral|        30|          03|       2025|     News|\n",
      "|           6|positive|        29|          03|       2025|     News|\n",
      "|           1| neutral|        29|          03|       2025|     News|\n",
      "|           3|negative|        29|          03|       2025|     News|\n",
      "|           4|negative|        28|          03|       2025|     News|\n",
      "|           6|positive|        28|          03|       2025|     News|\n",
      "|           3| neutral|        27|          03|       2025|     News|\n",
      "|           2|negative|        27|          03|       2025|     News|\n",
      "|           4|positive|        27|          03|       2025|     News|\n",
      "|           1|positive|        27|          03|       2025|AseanPlus|\n",
      "|           6|positive|        26|          03|       2025|     News|\n",
      "|           1| neutral|        26|          03|       2025|     News|\n",
      "|           3|negative|        26|          03|       2025|     News|\n",
      "|           3| neutral|        25|          03|       2025|     News|\n",
      "|           5|positive|        25|          03|       2025|     News|\n",
      "+------------+--------+----------+------------+-----------+---------+\n",
      "only showing top 20 rows\n",
      "\n"
     ]
    }
   ],
   "source": [
    "#News Articles by Section and Category Over Time\n",
    "query = \"\"\"\n",
    "MATCH (n:News)-[:HAS_CATEGORY]->(c:Category), \n",
    "      (n)-[:BELONGS_TO]->(ss:SubSection)-[:PART_OF]->(s:Section), \n",
    "      (n)-[:PUBLISHED_ON]->(t:Time)\n",
    "WITH s.name AS Section, \n",
    "     c.name AS Category, \n",
    "     t.date AS PublishDate, \n",
    "     toString(t.date) AS PublishDateStr,\n",
    "     COUNT(n) AS ArticleCount\n",
    "WITH Section, Category, PublishDate, PublishDateStr, ArticleCount,\n",
    "     SUBSTRING(PublishDateStr, 0, 4) AS PublishYear, \n",
    "     SUBSTRING(PublishDateStr, 5, 2) AS PublishMonth, \n",
    "     SUBSTRING(PublishDateStr, 8, 2) AS PublishDay\n",
    "RETURN Section, Category, PublishYear, PublishMonth, PublishDay, ArticleCount\n",
    "ORDER BY PublishDate DESC\n",
    "\n",
    "\"\"\"\n",
    "df = ng.run_cypher_query(spark, query)\n",
    "df.show()\n",
    "#This query helps analyze trends over time for both sections and categories. \n",
    "#It allows you to uncover patterns of how sections shift their focus between categories over different time periods.\n"
   ]
  },
  {
   "cell_type": "code",
   "execution_count": 44,
   "id": "4524f70c-0cfd-4626-ad9f-0503da319eac",
   "metadata": {},
   "outputs": [
    {
     "name": "stdout",
     "output_type": "stream",
     "text": [
      "+------------+--------+--------------+\n",
      "|ArticleCount|Category|    SubSection|\n",
      "+------------+--------+--------------+\n",
      "|          84|positive|        Nation|\n",
      "|          67|negative|        Nation|\n",
      "|          39| neutral|        Nation|\n",
      "|           5|positive|Aseanplus News|\n",
      "|           2|negative|         World|\n",
      "|           1| neutral|Aseanplus News|\n",
      "|           1|negative|Aseanplus News|\n",
      "|           1|positive| Business News|\n",
      "+------------+--------+--------------+\n",
      "\n"
     ]
    }
   ],
   "source": [
    "#Subsections with Most Articles Published in Specific Categories\n",
    "query = \"\"\"\n",
    "MATCH (n:News)-[:HAS_CATEGORY]->(c:Category), (n)-[:BELONGS_TO]->(ss:SubSection)\n",
    "RETURN ss.name AS SubSection, c.name AS Category, COUNT(n) AS ArticleCount\n",
    "ORDER BY ArticleCount DESC\n",
    "\"\"\"\n",
    "df = ng.run_cypher_query(spark, query)\n",
    "df.show()\n",
    "#This query looks for subsections that are publishing a large number of articles\n",
    "#in specific categories, revealing the most active subsections in different content types.\n"
   ]
  },
  {
   "cell_type": "code",
   "execution_count": null,
   "id": "c3e1d74f-d300-4268-bcbb-9f117eed630f",
   "metadata": {},
   "outputs": [],
   "source": []
  },
  {
   "cell_type": "code",
   "execution_count": null,
   "id": "8615f400-4de2-4f9d-a3b6-0ba735b32d56",
   "metadata": {},
   "outputs": [],
   "source": []
  },
  {
   "cell_type": "code",
   "execution_count": null,
   "id": "2775df9c-72e2-4e84-91f1-8de3336d0b92",
   "metadata": {},
   "outputs": [],
   "source": []
  }
 ],
 "metadata": {
  "kernelspec": {
   "display_name": "de-venv",
   "language": "python",
   "name": "de-venv"
  },
  "language_info": {
   "codemirror_mode": {
    "name": "ipython",
    "version": 3
   },
   "file_extension": ".py",
   "mimetype": "text/x-python",
   "name": "python",
   "nbconvert_exporter": "python",
   "pygments_lexer": "ipython3",
   "version": "3.10.12"
  }
 },
 "nbformat": 4,
 "nbformat_minor": 5
}
