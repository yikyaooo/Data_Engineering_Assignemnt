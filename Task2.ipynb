{
 "cells": [
  {
   "cell_type": "code",
   "execution_count": 1,
   "id": "d2a0f2fc-e032-4340-b6a6-31bd04bc81c4",
   "metadata": {},
   "outputs": [],
   "source": [
    "from classes.NewsLoader import NewsLoader\n",
    "from classes.TextPreprocessing import TextPreprocessing\n",
    "from classes.NewsSentimentModelling import NewsSentimentModelling\n",
    "from pyspark.sql import SparkSession"
   ]
  },
  {
   "cell_type": "code",
   "execution_count": 2,
   "id": "79e27ff6-5b78-465a-a196-77f2093616a5",
   "metadata": {},
   "outputs": [
    {
     "name": "stderr",
     "output_type": "stream",
     "text": [
      "25/04/13 18:07:36 WARN Utils: Your hostname, Macpad5Pro. resolves to a loopback address: 127.0.1.1; using 10.255.255.254 instead (on interface lo)\n",
      "25/04/13 18:07:36 WARN Utils: Set SPARK_LOCAL_IP if you need to bind to another address\n",
      "Setting default log level to \"WARN\".\n",
      "To adjust logging level use sc.setLogLevel(newLevel). For SparkR, use setLogLevel(newLevel).\n",
      "25/04/13 18:07:37 WARN NativeCodeLoader: Unable to load native-hadoop library for your platform... using builtin-java classes where applicable\n"
     ]
    }
   ],
   "source": [
    "spark = SparkSession.builder \\\n",
    "            .appName(\"News Sentiment Analysis\") \\\n",
    "            .config(\"spark.hadoop.fs.defaultFS\", \"hdfs://localhost:9000\") \\\n",
    "            .getOrCreate()"
   ]
  },
  {
   "cell_type": "code",
   "execution_count": 3,
   "id": "e5f56356-5e72-45af-9980-177e1855ecd2",
   "metadata": {
    "scrolled": true
   },
   "outputs": [
    {
     "name": "stderr",
     "output_type": "stream",
     "text": [
      "                                                                                \r"
     ]
    },
    {
     "name": "stdout",
     "output_type": "stream",
     "text": [
      "+--------------------+--------+--------------------+------------------+-------------------+-------+-----------+--------------------+--------------------+---------------+---------+\n",
      "|                body|keywords|                link|          location|       publish_time|section|sub_section|             summary|               title|sentiment_score|sentiment|\n",
      "+--------------------+--------+--------------------+------------------+-------------------+-------+-----------+--------------------+--------------------+---------------+---------+\n",
      "|IPOH: A family of...|      []|https://www.thest...|              IPOH|2025-03-31 20:44:00|   News|     Nation|IPOH: A family of...|Family of seven s...|        -0.5267| negative|\n",
      "|KUALA LUMPUR: The...|      []|https://www.thest...|      KUALA LUMPUR|2025-03-31 19:59:00|   News|     Nation|KUALA LUMPUR: The...|Myanmar quake: SM...|         -0.595| negative|\n",
      "|BALING: A sombre ...|      []|https://www.thest...|            BALING|2025-03-31 19:24:00|   News|     Nation|BALING: A sombre ...|Missing autistic ...|            0.0|  neutral|\n",
      "|JOHOR BARU (The S...|      []|https://www.thest...|Location not found|2025-03-31 19:11:00|   News|     Nation|JOHOR BARU (The S...|Singapore ministe...|         0.5106| positive|\n",
      "|JOHOR BARU: A man...|      []|https://www.thest...|        JOHOR BARU|2025-03-31 18:25:00|   News|     Nation|JOHOR BARU: A man...|Man killed in col...|        -0.6705| negative|\n",
      "|GEORGE TOWN: A ca...|      []|https://www.thest...|       GEORGE TOWN|2025-03-31 18:06:00|   News|     Nation|GEORGE TOWN: A ca...|Car thief who fle...|        -0.5267| negative|\n",
      "|KUALA LUMPUR: The...|      []|https://www.thest...|      KUALA LUMPUR|2025-03-31 17:55:00|   News|     Nation|KUALA LUMPUR: The...|Report on fatal T...|        -0.6249| negative|\n",
      "|IPOH: About 20,00...|      []|https://www.thest...|              IPOH|2025-03-31 16:59:00|   News|     Nation|IPOH: About 20,00...|Thousands throng ...|            0.0|  neutral|\n",
      "|PETALING JAYA: Wi...|      []|https://www.thest...|     PETALING JAYA|2025-03-31 16:43:00|   News|     Nation|PETALING JAYA: Wi...|Harmony in divers...|         0.8402| positive|\n",
      "|KUALA LUMPUR: The...|      []|https://www.thest...|      KUALA LUMPUR|2025-03-31 16:40:00|   News|     Nation|KUALA LUMPUR: The...|Father thanks Mal...|         0.8834| positive|\n",
      "|KUALA LUMPUR: Hea...|      []|https://www.thest...|      KUALA LUMPUR|2025-03-30 23:43:00|   News|     Nation|KUALA LUMPUR: Hea...|State govt heads ...|          0.891| positive|\n",
      "|KUALA LUMPUR: The...|      []|https://www.thest...|      KUALA LUMPUR|2025-03-30 22:30:00|   News|     Nation|KUALA LUMPUR: The...|Uphold unity, har...|         0.9442| positive|\n",
      "|KOTA KINABALU: A ...|      []|https://www.thest...|     KOTA KINABALU|2025-03-30 21:46:00|   News|     Nation|KOTA KINABALU: A ...|Teen drowns at Mo...|        -0.1531| negative|\n",
      "|PETALING JAYA: In...|      []|https://www.thest...|     PETALING JAYA|2025-03-30 21:28:00|   News|     Nation|PETALING JAYA: In...|Promote unity, fo...|         0.3818| positive|\n",
      "|PETALING JAYA: It...|      []|https://www.thest...|     PETALING JAYA|2025-03-30 21:20:00|   News|     Nation|PETALING JAYA: It...|Stability, peace ...|         0.7579| positive|\n",
      "|IPOH: A total of ...|      []|https://www.thest...|              IPOH|2025-03-30 21:12:00|   News|     Nation|IPOH: A total of ...|Accident rate ris...|            0.0|  neutral|\n",
      "|SIBU: Director of...|      []|https://www.thest...|              SIBU|2025-03-30 20:48:00|   News|     Nation|SIBU: Director of...|Director of Sabah...|        -0.4767| negative|\n",
      "|SEREMBAN: Asean w...|      []|https://www.thest...|          SEREMBAN|2025-03-30 20:48:00|   News|     Nation|SEREMBAN: Asean w...|Asean to deploy e...|         0.5574| positive|\n",
      "|KUALA LUMPUR: Mus...|      []|https://www.thest...|      KUALA LUMPUR|2025-03-30 20:03:00|   News|     Nation|KUALA LUMPUR: Mus...|Muslims in Malays...|         0.5719| positive|\n",
      "|KUALA LUMPUR: The...|      []|https://www.thest...|      KUALA LUMPUR|2025-03-30 19:59:00|   News|     Nation|KUALA LUMPUR: The...|SMART, Nadma SAR ...|          0.824| positive|\n",
      "+--------------------+--------+--------------------+------------------+-------------------+-------+-----------+--------------------+--------------------+---------------+---------+\n",
      "only showing top 20 rows\n",
      "\n"
     ]
    }
   ],
   "source": [
    "loader = NewsLoader(\"raw_data/news1.json\")\n",
    "df = loader.load_data(spark)\n",
    "df = loader.add_sentiment_label(df, \"summary\")\n",
    "df.show()\n",
    "\n"
   ]
  },
  {
   "cell_type": "markdown",
   "id": "486de3a7-1d8e-41b4-86d4-c584c232b3ea",
   "metadata": {},
   "source": [
    "# EDA"
   ]
  },
  {
   "cell_type": "code",
   "execution_count": 4,
   "id": "70e74825-75fc-41f9-b24c-c23eeeb08b6c",
   "metadata": {},
   "outputs": [
    {
     "data": {
      "text/plain": [
       "200"
      ]
     },
     "execution_count": 4,
     "metadata": {},
     "output_type": "execute_result"
    }
   ],
   "source": [
    "df.count()"
   ]
  },
  {
   "cell_type": "code",
   "execution_count": 5,
   "id": "a4516ed9-cc07-4cdb-ac74-432f0ef88eb7",
   "metadata": {},
   "outputs": [
    {
     "name": "stdout",
     "output_type": "stream",
     "text": [
      "+---------+-----+\n",
      "|sentiment|count|\n",
      "+---------+-----+\n",
      "| positive|   91|\n",
      "|  neutral|   38|\n",
      "| negative|   71|\n",
      "+---------+-----+\n",
      "\n"
     ]
    }
   ],
   "source": [
    "df.groupBy(\"sentiment\").count().show()"
   ]
  },
  {
   "cell_type": "markdown",
   "id": "c62d8c4c-e4c1-4ec1-8bda-ac88db3d074f",
   "metadata": {},
   "source": [
    "# Preprocessing"
   ]
  },
  {
   "cell_type": "code",
   "execution_count": 4,
   "id": "389e9349-767d-4fa6-81e1-d0dcec2288f2",
   "metadata": {},
   "outputs": [],
   "source": [
    "tp = TextPreprocessing()"
   ]
  },
  {
   "cell_type": "code",
   "execution_count": 5,
   "id": "b47df288-dbbf-483f-8fc1-615d7cb77d8d",
   "metadata": {},
   "outputs": [],
   "source": [
    "df = tp.remove_duplicate(df)"
   ]
  },
  {
   "cell_type": "code",
   "execution_count": 6,
   "id": "52c3aa79-5607-407e-b402-2150414fdd63",
   "metadata": {
    "scrolled": true
   },
   "outputs": [
    {
     "name": "stdout",
     "output_type": "stream",
     "text": [
      "+--------------------+---------+\n",
      "|             summary|sentiment|\n",
      "+--------------------+---------+\n",
      "|kuala lumpur: a v...| negative|\n",
      "|kota kinabalu: la...| negative|\n",
      "|kuala lumpur: the...| positive|\n",
      "|kuala terengganu:...|  neutral|\n",
      "|chukai: prime min...| positive|\n",
      "|sepang: transport...| negative|\n",
      "|nibong tebal: the...| positive|\n",
      "|kota kinabalu: a ...| negative|\n",
      "|seremban: eleven ...|  neutral|\n",
      "|kuala lumpur: for...| positive|\n",
      "|johor baru: autho...|  neutral|\n",
      "|ipoh: about 20,00...|  neutral|\n",
      "|kuala lumpur: in ...| negative|\n",
      "|kuala lumpur: a m...| negative|\n",
      "|kuala lumpur: the...| negative|\n",
      "|kuala lumpur: the...| positive|\n",
      "|tampin: negri sem...| positive|\n",
      "|kota kinabalu: wa...| positive|\n",
      "|johor baru: her m...|  neutral|\n",
      "|luala lumpur: pkr...| positive|\n",
      "+--------------------+---------+\n",
      "only showing top 20 rows\n",
      "\n"
     ]
    }
   ],
   "source": [
    "df = tp.lowercase(df, \"summary\")\n",
    "df.select(\"summary\", \"sentiment\").show()"
   ]
  },
  {
   "cell_type": "code",
   "execution_count": 7,
   "id": "01066263-f83a-4dc2-9720-ed921430eead",
   "metadata": {
    "scrolled": true
   },
   "outputs": [
    {
     "name": "stdout",
     "output_type": "stream",
     "text": [
      "+--------------------+---------+\n",
      "|             summary|sentiment|\n",
      "+--------------------+---------+\n",
      "|kuala lumpur a vi...| negative|\n",
      "|kota kinabalu lab...| negative|\n",
      "|kuala lumpur the ...| positive|\n",
      "|kuala terengganu ...|  neutral|\n",
      "|chukai prime mini...| positive|\n",
      "|sepang transport ...| negative|\n",
      "|nibong tebal the ...| positive|\n",
      "|kota kinabalu a f...| negative|\n",
      "|seremban eleven o...|  neutral|\n",
      "|kuala lumpur form...| positive|\n",
      "|johor baru author...|  neutral|\n",
      "|ipoh about  peopl...|  neutral|\n",
      "|kuala lumpur in l...| negative|\n",
      "|kuala lumpur a ma...| negative|\n",
      "|kuala lumpur the ...| negative|\n",
      "|kuala lumpur the ...| positive|\n",
      "|tampin negri semb...| positive|\n",
      "|kota kinabalu war...| positive|\n",
      "|johor baru her ma...|  neutral|\n",
      "|luala lumpur pkr ...| positive|\n",
      "+--------------------+---------+\n",
      "only showing top 20 rows\n",
      "\n"
     ]
    }
   ],
   "source": [
    "df = tp.remove_special(df, \"summary\")\n",
    "df.select(\"summary\", \"sentiment\").show()"
   ]
  },
  {
   "cell_type": "code",
   "execution_count": 8,
   "id": "16a63df1-2019-4d8c-883a-d9cf61e542aa",
   "metadata": {
    "scrolled": true
   },
   "outputs": [
    {
     "name": "stderr",
     "output_type": "stream",
     "text": [
      "                                                                                \r"
     ]
    }
   ],
   "source": [
    "tpModel = tp.fitPipeline(df, \"summary\", \"sentiment\")"
   ]
  },
  {
   "cell_type": "code",
   "execution_count": 9,
   "id": "48a2bc0f-bfc2-425c-be2c-941de6f68a5b",
   "metadata": {
    "scrolled": true
   },
   "outputs": [
    {
     "name": "stdout",
     "output_type": "stream",
     "text": [
      "+--------------------+--------+--------------------+----------------+-------------------+--------+-------------+--------------------+--------------------+---------------+---------+------------+--------------------+--------------------+--------------------+--------------------+\n",
      "|                body|keywords|                link|        location|       publish_time| section|  sub_section|             summary|               title|sentiment_score|sentiment|indexedLabel|               words|      filtered_words|        raw_features|            features|\n",
      "+--------------------+--------+--------------------+----------------+-------------------+--------+-------------+--------------------+--------------------+---------------+---------+------------+--------------------+--------------------+--------------------+--------------------+\n",
      "|KUALA LUMPUR: A v...|      []|https://www.thest...|    KUALA LUMPUR|2025-03-14 21:43:00|    News|       Nation|kuala lumpur a vi...|Video of robbers ...|        -0.4019| negative|         1.0|[kuala, lumpur, a...|[kuala, lumpur, v...|(262144,[3657,743...|(262144,[3657,743...|\n",
      "|KOTA KINABALU: La...|      []|https://www.thest...|   KOTA KINABALU|2025-03-22 21:04:00|    News|       Nation|kota kinabalu lab...|Woman claims male...|         -0.743| negative|         1.0|[kota, kinabalu, ...|[kota, kinabalu, ...|(262144,[44863,86...|(262144,[44863,86...|\n",
      "|KUALA LUMPUR: The...|      []|https://www.thest...|    KUALA LUMPUR|2025-03-15 20:03:00|Business|Business News|kuala lumpur the ...|Govt's RM1.1bil i...|         0.7579| positive|         0.0|[kuala, lumpur, t...|[kuala, lumpur, g...|(262144,[3388,552...|(262144,[3388,552...|\n",
      "|KUALA TERENGGANU:...|      []|https://www.thest...|KUALA TERENGGANU|2025-03-25 20:30:00|    News|       Nation|kuala terengganu ...|'Torpedo' found o...|            0.0|  neutral|         2.0|[kuala, terenggan...|[kuala, terenggan...|(262144,[508,7853...|(262144,[508,7853...|\n",
      "|CHUKAI: Prime Min...|      []|https://www.thest...|          CHUKAI|2025-03-21 20:57:00|    News|       Nation|chukai prime mini...|Anwar announces R...|         0.4019| positive|         0.0|[chukai, prime, m...|[chukai, prime, m...|(262144,[5944,107...|(262144,[5944,107...|\n",
      "|SEPANG: Transport...|      []|https://www.thest...|          SEPANG|2025-03-28 23:31:00|    News|       Nation|sepang transport ...|Loke orders thoro...|        -0.5719| negative|         1.0|[sepang, transpor...|[sepang, transpor...|(262144,[4210,127...|(262144,[4210,127...|\n",
      "|NIBONG TEBAL: The...|      []|https://www.thest...|    NIBONG TEBAL|2025-03-18 21:52:00|    News|       Nation|nibong tebal the ...|Penang lists 10 p...|         0.4019| positive|         0.0|[nibong, tebal, t...|[nibong, tebal, p...|(262144,[16989,20...|(262144,[16989,20...|\n",
      "|KOTA KINABALU: A ...|      []|https://www.thest...|   KOTA KINABALU|2025-03-28 20:53:00|    News|       Nation|kota kinabalu a f...|Family heading ho...|        -0.4019| negative|         1.0|[kota, kinabalu, ...|[kota, kinabalu, ...|(262144,[17893,35...|(262144,[17893,35...|\n",
      "|SEREMBAN: Eleven ...|      []|https://www.thest...|        SEREMBAN|2025-03-23 20:11:00|    News|       Nation|seremban eleven o...|JPJ flags non-roa...|            0.0|  neutral|         2.0|[seremban, eleven...|[seremban, eleven...|(262144,[4210,226...|(262144,[4210,226...|\n",
      "|KUALA LUMPUR: For...|      []|https://www.thest...|    KUALA LUMPUR|2025-03-21 23:18:00|    News|       Nation|kuala lumpur form...|Former Sabah mini...|         0.2732| positive|         0.0|[kuala, lumpur, f...|[kuala, lumpur, f...|(262144,[4210,797...|(262144,[4210,797...|\n",
      "|JOHOR BARU: Autho...|      []|https://www.thest...|      JOHOR BARU|2025-03-27 20:31:00|    News|       Nation|johor baru author...|Environment Dept ...|            0.0|  neutral|         2.0|[johor, baru, aut...|[johor, baru, aut...|(262144,[28739,60...|(262144,[28739,60...|\n",
      "|IPOH: About 20,00...|      []|https://www.thest...|            IPOH|2025-03-31 16:59:00|    News|       Nation|ipoh about  peopl...|Thousands throng ...|            0.0|  neutral|         2.0|[ipoh, about, , p...|[ipoh, , people, ...|(262144,[35633,58...|(262144,[35633,58...|\n",
      "|KUALA LUMPUR: In ...|      []|https://www.thest...|    KUALA LUMPUR|2025-03-24 21:15:00|    News|       Nation|kuala lumpur in l...|Federal Court Jud...|        -0.5267| negative|         1.0|[kuala, lumpur, i...|[kuala, lumpur, l...|(262144,[20326,37...|(262144,[20326,37...|\n",
      "|KUALA LUMPUR: A m...|      []|https://www.thest...|    KUALA LUMPUR|2025-03-22 23:13:00|    News|       Nation|kuala lumpur a ma...|Gun-wielding mask...|        -0.5574| negative|         1.0|[kuala, lumpur, a...|[kuala, lumpur, m...|(262144,[389,2111...|(262144,[389,2111...|\n",
      "|KUALA LUMPUR: The...|      []|https://www.thest...|    KUALA LUMPUR|2025-03-19 23:49:00|    News|       Nation|kuala lumpur the ...|Ismail Sabri prob...|        -0.3612| negative|         1.0|[kuala, lumpur, t...|[kuala, lumpur, m...|(262144,[2302,670...|(262144,[2302,670...|\n",
      "|KUALA LUMPUR: The...|      []|https://www.thest...|    KUALA LUMPUR|2025-03-15 20:35:00|    News|       Nation|kuala lumpur the ...|Malaysian Bar aff...|         0.3818| positive|         0.0|[kuala, lumpur, t...|[kuala, lumpur, m...|(262144,[1921,847...|(262144,[1921,847...|\n",
      "|TAMPIN: Negri Sem...|      []|https://www.thest...|          TAMPIN|2025-03-16 22:31:00|    News|       Nation|tampin negri semb...|Negri Sembilan se...|         0.4019| positive|         0.0|[tampin, negri, s...|[tampin, negri, s...|(262144,[851,1698...|(262144,[851,1698...|\n",
      "|KOTA KINABALU: Wa...|      []|https://www.thest...|   KOTA KINABALU|2025-03-25 19:04:00|    News|       Nation|kota kinabalu war...|Warisan must not ...|         0.7269| positive|         0.0|[kota, kinabalu, ...|[kota, kinabalu, ...|(262144,[21573,31...|(262144,[21573,31...|\n",
      "|JOHOR BARU: Her M...|      []|https://www.thest...|      JOHOR BARU|2025-03-23 22:46:00|    News|       Nation|johor baru her ma...|Queen extends aid...|            0.0|  neutral|         2.0|[johor, baru, her...|[johor, baru, maj...|(262144,[28739,29...|(262144,[28739,29...|\n",
      "|KUALA LUMPUR: PKR...|      []|https://www.thest...|    KUALA LUMPUR|2025-03-15 23:03:00|    News|       Nation|luala lumpur pkr ...|Nurul Izzah set t...|         0.7845| positive|         0.0|[luala, lumpur, p...|[luala, lumpur, p...|(262144,[619,2534...|(262144,[619,2534...|\n",
      "+--------------------+--------+--------------------+----------------+-------------------+--------+-------------+--------------------+--------------------+---------------+---------+------------+--------------------+--------------------+--------------------+--------------------+\n",
      "only showing top 20 rows\n",
      "\n"
     ]
    }
   ],
   "source": [
    "df = tpModel.transform(df)\n",
    "df.show()"
   ]
  },
  {
   "cell_type": "code",
   "execution_count": 10,
   "id": "cc04dd78-7be2-47b5-ba52-19a7dfeb08d2",
   "metadata": {},
   "outputs": [
    {
     "name": "stderr",
     "output_type": "stream",
     "text": [
      "                                                                                \r"
     ]
    },
    {
     "name": "stdout",
     "output_type": "stream",
     "text": [
      "Model successfully saved at: /user/student/preprocessingPipeline\n"
     ]
    }
   ],
   "source": [
    "tp.save_pipeline_to_hdfs(tpModel, \"preprocessingPipeline\", \"/user/student\")"
   ]
  },
  {
   "cell_type": "markdown",
   "id": "7b7d3ebd-1d23-49bd-bbb9-5848e1ec4e81",
   "metadata": {},
   "source": [
    "# Modelling"
   ]
  },
  {
   "cell_type": "code",
   "execution_count": 11,
   "id": "a92c3ca9-da30-4cd4-aaf6-51b1d757a36a",
   "metadata": {},
   "outputs": [],
   "source": [
    "# Assuming `transformed_df` is the DataFrame after pipeline transformation\n",
    "x_column = \"features\"        # Feature column after IDF transformation\n",
    "y_column = \"indexedLabel\"    # Label column from StringIndexer\n",
    "train_size = 0.8             # 80% training, 20% testing\n",
    "\n",
    "# Step 1: Initialize the NewsSentimentModelling class\n",
    "sentiment_model = NewsSentimentModelling(df, x_column, y_column, train_size)\n",
    "\n"
   ]
  },
  {
   "cell_type": "markdown",
   "id": "20ae3555-2c1c-4759-894f-e911cb7a5caa",
   "metadata": {},
   "source": [
    "## 1)Naive Bayes"
   ]
  },
  {
   "cell_type": "code",
   "execution_count": 12,
   "id": "46efb20f-5241-49b2-b939-0fbc284c21ac",
   "metadata": {},
   "outputs": [
    {
     "name": "stderr",
     "output_type": "stream",
     "text": [
      "                                                                                \r"
     ]
    },
    {
     "name": "stdout",
     "output_type": "stream",
     "text": [
      "Evaluating Naïve Bayes Model:\n",
      "Accuracy: 0.6129\n",
      "Precision: 0.5305\n",
      "Recall: 0.6129\n",
      "F1-score: 0.5687\n"
     ]
    },
    {
     "data": {
      "text/plain": [
       "[0.6129032258064516,\n",
       " 0.5304659498207885,\n",
       " 0.6129032258064516,\n",
       " 0.5686761056780032]"
      ]
     },
     "execution_count": 12,
     "metadata": {},
     "output_type": "execute_result"
    }
   ],
   "source": [
    "nb_model = sentiment_model.train_naive_bayes()   # Naïve Bayes\n",
    "print(\"Evaluating Naïve Bayes Model:\")\n",
    "sentiment_model.evaluate_model(nb_model)"
   ]
  },
  {
   "cell_type": "markdown",
   "id": "5f7a8abe-9385-4bf0-9a69-a04dc4daec73",
   "metadata": {},
   "source": [
    "## 2) Logistic Regression"
   ]
  },
  {
   "cell_type": "code",
   "execution_count": 13,
   "id": "e15d11dd-940d-4bb7-8ba5-8aafc8b4ed53",
   "metadata": {},
   "outputs": [
    {
     "name": "stderr",
     "output_type": "stream",
     "text": [
      "                                                                                \r"
     ]
    },
    {
     "name": "stdout",
     "output_type": "stream",
     "text": [
      "\n",
      "Evaluating Logistic Regression Model:\n",
      "Accuracy: 0.6129\n",
      "Precision: 0.5355\n",
      "Recall: 0.6129\n",
      "F1-score: 0.5712\n"
     ]
    },
    {
     "data": {
      "text/plain": [
       "[0.6129032258064516,\n",
       " 0.5354838709677419,\n",
       " 0.6129032258064516,\n",
       " 0.5712129786832671]"
      ]
     },
     "execution_count": 13,
     "metadata": {},
     "output_type": "execute_result"
    }
   ],
   "source": [
    "lr_model = sentiment_model.train_logistic_regression(3) \n",
    "print(\"\\nEvaluating Logistic Regression Model:\")\n",
    "sentiment_model.evaluate_model(lr_model)"
   ]
  },
  {
   "cell_type": "markdown",
   "id": "829e6e16-df5d-462d-aa26-f439f23840a9",
   "metadata": {},
   "source": [
    "## 3) Linear SVC"
   ]
  },
  {
   "cell_type": "code",
   "execution_count": 15,
   "id": "bca8f6d2-af65-4d19-94d9-662a2c98f575",
   "metadata": {},
   "outputs": [
    {
     "name": "stderr",
     "output_type": "stream",
     "text": [
      "                                                                                \r"
     ]
    },
    {
     "name": "stdout",
     "output_type": "stream",
     "text": [
      "\n",
      "Evaluating Linear SVM Model:\n",
      "Accuracy: 0.9355\n",
      "Precision: 0.9409\n",
      "Recall: 0.9355\n",
      "F1-score: 0.9365\n"
     ]
    },
    {
     "data": {
      "text/plain": [
       "[0.9354838709677419,\n",
       " 0.9408602150537635,\n",
       " 0.9354838709677419,\n",
       " 0.9364893171344784]"
      ]
     },
     "execution_count": 15,
     "metadata": {},
     "output_type": "execute_result"
    }
   ],
   "source": [
    "# Step 2: Train a classification model\n",
    "svm_model = sentiment_model.train_linear_svm(3) # Logistic Regression\n",
    "print(\"\\nEvaluating Linear SVM Model:\")\n",
    "sentiment_model.evaluate_model(svm_model)\n"
   ]
  },
  {
   "cell_type": "code",
   "execution_count": 16,
   "id": "f69e49a0-1ed4-43b6-ab12-5053e2ce15e0",
   "metadata": {},
   "outputs": [
    {
     "name": "stdout",
     "output_type": "stream",
     "text": [
      "Model successfully saved at: /user/student/naive_bayes\n",
      "Model successfully saved at: /user/student/logistic_reg\n",
      "Model successfully saved at: /user/student/LinearSvc\n"
     ]
    }
   ],
   "source": [
    "hdfs_path = \"/user/student\"\n",
    "sentiment_model.save_model_to_hdfs(nb_model, \"naive_bayes\", hdfs_path)\n",
    "sentiment_model.save_model_to_hdfs(lr_model, \"logistic_reg\", hdfs_path)\n",
    "sentiment_model.save_model_to_hdfs(svm_model, \"LinearSvc\", hdfs_path)"
   ]
  },
  {
   "cell_type": "code",
   "execution_count": null,
   "id": "78dfc131-fb17-4ff4-bee9-daa434c4ef76",
   "metadata": {},
   "outputs": [
    {
     "name": "stderr",
     "output_type": "stream",
     "text": [
      "[Stage 1400:=======>                                            (29 + 16) / 200]\r"
     ]
    }
   ],
   "source": [
    "# sentiment_model.save_model_as_pkl(nb_model, \"naive_bayes\")"
   ]
  },
  {
   "cell_type": "code",
   "execution_count": null,
   "id": "29c7632b-cb7f-4659-9032-91a522926e1c",
   "metadata": {},
   "outputs": [],
   "source": []
  }
 ],
 "metadata": {
  "kernelspec": {
   "display_name": "de-venv",
   "language": "python",
   "name": "de-venv"
  },
  "language_info": {
   "codemirror_mode": {
    "name": "ipython",
    "version": 3
   },
   "file_extension": ".py",
   "mimetype": "text/x-python",
   "name": "python",
   "nbconvert_exporter": "python",
   "pygments_lexer": "ipython3",
   "version": "3.10.12"
  }
 },
 "nbformat": 4,
 "nbformat_minor": 5
}
