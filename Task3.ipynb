{
 "cells": [
  {
   "cell_type": "code",
   "execution_count": 1,
   "id": "a3ee7bd8-4d19-46c1-b5e0-d4f130e4adbb",
   "metadata": {},
   "outputs": [],
   "source": [
    "from pyspark.sql import SparkSession\n",
    "from pyspark.sql.types import StructType, StringType, ArrayType\n",
    "from pyspark.ml import PipelineModel\n",
    "from pyspark.ml.tuning import CrossValidatorModel\n",
    "from pyspark.ml.classification import RandomForestClassificationModel\n",
    "from pyspark.ml.feature import IndexToString\n",
    "from classes.TextPreprocessing import TextPreprocessing\n",
    "from classes.NewsStreaming import NewsStreaming"
   ]
  },
  {
   "cell_type": "code",
   "execution_count": 2,
   "id": "8a68b46e-97da-4173-b5bb-61dfe041b257",
   "metadata": {},
   "outputs": [
    {
     "name": "stderr",
     "output_type": "stream",
     "text": [
      "25/04/17 22:32:17 WARN Utils: Your hostname, Macpad5Pro. resolves to a loopback address: 127.0.1.1; using 10.255.255.254 instead (on interface lo)\n",
      "25/04/17 22:32:17 WARN Utils: Set SPARK_LOCAL_IP if you need to bind to another address\n"
     ]
    },
    {
     "name": "stdout",
     "output_type": "stream",
     "text": [
      ":: loading settings :: url = jar:file:/home/hduser/spark/jars/ivy-2.5.1.jar!/org/apache/ivy/core/settings/ivysettings.xml\n"
     ]
    },
    {
     "name": "stderr",
     "output_type": "stream",
     "text": [
      "Ivy Default Cache set to: /home/student/.ivy2/cache\n",
      "The jars for the packages stored in: /home/student/.ivy2/jars\n",
      "org.apache.spark#spark-sql-kafka-0-10_2.13 added as a dependency\n",
      "org.mongodb.spark#mongo-spark-connector_2.13 added as a dependency\n",
      ":: resolving dependencies :: org.apache.spark#spark-submit-parent-b5bef409-26f4-4132-854b-762f2bb0bdb4;1.0\n",
      "\tconfs: [default]\n",
      "\tfound org.apache.spark#spark-sql-kafka-0-10_2.13;3.5.4 in central\n",
      "\tfound org.apache.spark#spark-token-provider-kafka-0-10_2.13;3.5.4 in central\n",
      "\tfound org.apache.kafka#kafka-clients;3.4.1 in central\n",
      "\tfound org.lz4#lz4-java;1.8.0 in central\n",
      "\tfound org.xerial.snappy#snappy-java;1.1.10.5 in central\n",
      "\tfound org.slf4j#slf4j-api;2.0.7 in central\n",
      "\tfound org.apache.hadoop#hadoop-client-runtime;3.3.4 in central\n",
      "\tfound org.apache.hadoop#hadoop-client-api;3.3.4 in central\n",
      "\tfound commons-logging#commons-logging;1.1.3 in central\n",
      "\tfound com.google.code.findbugs#jsr305;3.0.0 in central\n",
      "\tfound org.scala-lang.modules#scala-parallel-collections_2.13;1.0.4 in central\n",
      "\tfound org.apache.commons#commons-pool2;2.11.1 in central\n",
      "\tfound org.mongodb.spark#mongo-spark-connector_2.13;10.2.0 in central\n",
      "\tfound org.mongodb#mongodb-driver-sync;4.8.2 in central\n",
      "\t[4.8.2] org.mongodb#mongodb-driver-sync;[4.8.1,4.8.99)\n",
      "\tfound org.mongodb#bson;4.8.2 in central\n",
      "\tfound org.mongodb#mongodb-driver-core;4.8.2 in central\n",
      "\tfound org.mongodb#bson-record-codec;4.8.2 in central\n",
      ":: resolution report :: resolve 2770ms :: artifacts dl 31ms\n",
      "\t:: modules in use:\n",
      "\tcom.google.code.findbugs#jsr305;3.0.0 from central in [default]\n",
      "\tcommons-logging#commons-logging;1.1.3 from central in [default]\n",
      "\torg.apache.commons#commons-pool2;2.11.1 from central in [default]\n",
      "\torg.apache.hadoop#hadoop-client-api;3.3.4 from central in [default]\n",
      "\torg.apache.hadoop#hadoop-client-runtime;3.3.4 from central in [default]\n",
      "\torg.apache.kafka#kafka-clients;3.4.1 from central in [default]\n",
      "\torg.apache.spark#spark-sql-kafka-0-10_2.13;3.5.4 from central in [default]\n",
      "\torg.apache.spark#spark-token-provider-kafka-0-10_2.13;3.5.4 from central in [default]\n",
      "\torg.lz4#lz4-java;1.8.0 from central in [default]\n",
      "\torg.mongodb#bson;4.8.2 from central in [default]\n",
      "\torg.mongodb#bson-record-codec;4.8.2 from central in [default]\n",
      "\torg.mongodb#mongodb-driver-core;4.8.2 from central in [default]\n",
      "\torg.mongodb#mongodb-driver-sync;4.8.2 from central in [default]\n",
      "\torg.mongodb.spark#mongo-spark-connector_2.13;10.2.0 from central in [default]\n",
      "\torg.scala-lang.modules#scala-parallel-collections_2.13;1.0.4 from central in [default]\n",
      "\torg.slf4j#slf4j-api;2.0.7 from central in [default]\n",
      "\torg.xerial.snappy#snappy-java;1.1.10.5 from central in [default]\n",
      "\t---------------------------------------------------------------------\n",
      "\t|                  |            modules            ||   artifacts   |\n",
      "\t|       conf       | number| search|dwnlded|evicted|| number|dwnlded|\n",
      "\t---------------------------------------------------------------------\n",
      "\t|      default     |   17  |   1   |   0   |   0   ||   17  |   0   |\n",
      "\t---------------------------------------------------------------------\n",
      ":: retrieving :: org.apache.spark#spark-submit-parent-b5bef409-26f4-4132-854b-762f2bb0bdb4\n",
      "\tconfs: [default]\n",
      "\t0 artifacts copied, 17 already retrieved (0kB/13ms)\n",
      "25/04/17 22:32:20 WARN NativeCodeLoader: Unable to load native-hadoop library for your platform... using builtin-java classes where applicable\n",
      "Setting default log level to \"WARN\".\n",
      "To adjust logging level use sc.setLogLevel(newLevel). For SparkR, use setLogLevel(newLevel).\n"
     ]
    }
   ],
   "source": [
    "spark = SparkSession.builder \\\n",
    "    .appName(\"KafkaIntegration\") \\\n",
    "    .config(\"spark.jars.packages\", \"org.apache.spark:spark-sql-kafka-0-10_2.13:3.5.4,org.mongodb.spark:mongo-spark-connector_2.13:10.2.0\") \\\n",
    "    .getOrCreate()  \n",
    "\n"
   ]
  },
  {
   "cell_type": "code",
   "execution_count": 3,
   "id": "ea78a281-9132-4c4a-835b-5704c065d55c",
   "metadata": {},
   "outputs": [
    {
     "name": "stderr",
     "output_type": "stream",
     "text": [
      "                                                                                \r"
     ]
    }
   ],
   "source": [
    "preprocessing_path = \"/user/student/preprocessingPipeline\"\n",
    "preprocess = PipelineModel.load(preprocessing_path)"
   ]
  },
  {
   "cell_type": "code",
   "execution_count": 4,
   "id": "f19520d7-5bac-4f0e-8209-36d295ed4cc6",
   "metadata": {},
   "outputs": [],
   "source": [
    "model_path = \"/user/student/naive_bayes\"\n",
    "cv_model = CrossValidatorModel.load(model_path)\n",
    "model = cv_model.bestModel\n"
   ]
  },
  {
   "cell_type": "code",
   "execution_count": 5,
   "id": "1eb43cca-8fd4-43a0-8e84-58531436064d",
   "metadata": {},
   "outputs": [],
   "source": [
    "kafka_broker = \"localhost:9092\"  # Change if necessary\n",
    "kafka_topic = \"nation_news\"\n",
    "hdfs_output_path = \"/user/student/sentiment_results\"\n",
    "schema = StructType() \\\n",
    "    .add(\"title\", StringType()) \\\n",
    "    .add(\"link\", StringType()) \\\n",
    "    .add(\"summary\", StringType()) \\\n",
    "    .add(\"publish_time\", StringType()) \\\n",
    "    .add(\"section\", StringType()) \\\n",
    "    .add(\"sub_section\", StringType()) \\\n",
    "    .add(\"keywords\", ArrayType(StringType())) \\\n",
    "    .add(\"location\", StringType()) \\\n",
    "    .add(\"body\", StringType()) "
   ]
  },
  {
   "cell_type": "code",
   "execution_count": 6,
   "id": "b88f2af1-b0f4-498a-aee4-6f008b4df878",
   "metadata": {},
   "outputs": [],
   "source": [
    "streamer = NewsStreaming()"
   ]
  },
  {
   "cell_type": "code",
   "execution_count": 7,
   "id": "f26e443a-4348-4303-a2b3-3ae550e0d753",
   "metadata": {},
   "outputs": [],
   "source": [
    "kafka_data = streamer.read_from_kafka(spark, kafka_broker, kafka_topic)"
   ]
  },
  {
   "cell_type": "code",
   "execution_count": 8,
   "id": "b75449cf-ac9f-4cf4-b971-8e6faa660f26",
   "metadata": {},
   "outputs": [],
   "source": [
    "df = streamer.process_stream(kafka_data, schema)"
   ]
  },
  {
   "cell_type": "code",
   "execution_count": 9,
   "id": "91d4be6b-c05b-41b5-b9a5-fe35561d8e33",
   "metadata": {},
   "outputs": [],
   "source": [
    "tp = TextPreprocessing()"
   ]
  },
  {
   "cell_type": "code",
   "execution_count": 10,
   "id": "0463c345-f677-4b59-a43c-4485f74c103e",
   "metadata": {},
   "outputs": [],
   "source": [
    "df = tp.remove_duplicate(df)"
   ]
  },
  {
   "cell_type": "code",
   "execution_count": 11,
   "id": "95815fee-206c-4279-ab0d-b4c3486f8aba",
   "metadata": {},
   "outputs": [],
   "source": [
    "df = tp.lowercase(df, \"summary\")"
   ]
  },
  {
   "cell_type": "code",
   "execution_count": 12,
   "id": "a9b7eff3-d804-4fe8-acff-ab832e0a4a5f",
   "metadata": {},
   "outputs": [],
   "source": [
    "df = tp.remove_special(df, \"summary\")"
   ]
  },
  {
   "cell_type": "code",
   "execution_count": 13,
   "id": "bda534bd-6731-443b-bd4e-9184a5ac1eb4",
   "metadata": {},
   "outputs": [
    {
     "name": "stderr",
     "output_type": "stream",
     "text": [
      "25/04/17 22:32:37 WARN StringIndexerModel: Input column sentiment does not exist during transformation. Skip StringIndexerModel for this column.\n"
     ]
    }
   ],
   "source": [
    "df = preprocess.transform(df)"
   ]
  },
  {
   "cell_type": "code",
   "execution_count": 14,
   "id": "a821fc4b-131f-4c22-9e70-4ad8eb31bf94",
   "metadata": {},
   "outputs": [],
   "source": [
    "df_result = streamer.analyse_stream(df, model)"
   ]
  },
  {
   "cell_type": "code",
   "execution_count": 15,
   "id": "b904f5b2-5bd6-411d-82d2-4983f452b685",
   "metadata": {},
   "outputs": [],
   "source": [
    "label_indexer_model = preprocess.stages[0]  # Assuming it's the first stage\n",
    "labels = label_indexer_model.labels\n",
    "\n",
    "label_reverse = IndexToString(inputCol=\"prediction\", outputCol=\"predicted_label\", labels=labels)\n",
    "df_result = label_reverse.transform(df_result)\n"
   ]
  },
  {
   "cell_type": "code",
   "execution_count": 16,
   "id": "2bc9b5e0-c1b7-40ea-8e25-77fe91f7418d",
   "metadata": {
    "scrolled": true
   },
   "outputs": [
    {
     "name": "stderr",
     "output_type": "stream",
     "text": [
      "25/04/17 22:32:38 WARN ResolveWriteToStream: Temporary checkpoint location created which is deleted normally when the query didn't fail: /tmp/temporary-89341763-067b-467f-bf95-17824ccfa607. If it's required to delete it under any circumstances, please set spark.sql.streaming.forceDeleteTempCheckpointLocation to true. Important to know deleting temp checkpoint folder is best effort.\n",
      "25/04/17 22:32:38 WARN ResolveWriteToStream: spark.sql.adaptive.enabled is not supported in streaming DataFrames/Datasets and will be disabled.\n",
      "25/04/17 22:32:39 WARN AdminClientConfig: These configurations '[key.deserializer, value.deserializer, enable.auto.commit, max.poll.records, auto.offset.reset]' were supplied but are not used yet.\n",
      "25/04/17 22:32:43 WARN DAGScheduler: Broadcasting large task binary with size 10.1 MiB\n",
      "                                                                                \r"
     ]
    },
    {
     "name": "stdout",
     "output_type": "stream",
     "text": [
      "-------------------------------------------\n",
      "Batch: 0\n",
      "-------------------------------------------\n",
      "+--------------------+--------------------+--------------------+-------------------+-------+-----------+--------+------------------+--------------------+--------------------+--------------------+--------------------+--------------------+--------------------+--------------------+----------+---------------+\n",
      "|               title|                link|             summary|       publish_time|section|sub_section|keywords|          location|                body|               words|      filtered_words|        raw_features|            features|       rawPrediction|         probability|prediction|predicted_label|\n",
      "+--------------------+--------------------+--------------------+-------------------+-------+-----------+--------+------------------+--------------------+--------------------+--------------------+--------------------+--------------------+--------------------+--------------------+----------+---------------+\n",
      "|Covid-19: Four ne...|https://www.thest...|petaling jaya fou...|2020-11-23 20:11:00|   News|     Nation|      []|     PETALING JAYA|PETALING JAYA: Fo...|[petaling, jaya, ...|[petaling, jaya, ...|(262144,[11395,62...|(262144,[11395,62...|[-833.13417677022...|[0.99997228202386...|       0.0|       positive|\n",
      "|Over 3,400 arrest...|https://www.thest...|melaka a total of...|2020-11-20 20:02:00|   News|     Nation|      []|            MELAKA|MELAKA: A total o...|[melaka, a, total...|[melaka, total, ,...|(262144,[21314,64...|(262144,[21314,64...|[-868.46650848782...|[1.84920651590424...|       1.0|       negative|\n",
      "|JPJ to conduct Op...|https://www.thest...|putrajaya the roa...|2021-11-23 21:36:00|   News|     Nation|      []|         PUTRAJAYA|PUTRAJAYA: The Ro...|[putrajaya, the, ...|[putrajaya, road,...|(262144,[929,1407...|(262144,[929,1407...|[-841.77186676607...|[8.07869476247878...|       2.0|        neutral|\n",
      "|Delay in ratifyin...|https://www.thest...|kuala lumpur the ...|2021-11-15 19:53:00|   News|     Nation|      []|      KUALA LUMPUR|KUALA LUMPUR: The...|[kuala, lumpur, t...|[kuala, lumpur, d...|(262144,[19153,59...|(262144,[19153,59...|[-1011.1713533823...|[8.76518657918616...|       1.0|       negative|\n",
      "|Melaka Polls: Peo...|https://www.thest...|melaka the histor...|2021-11-13 19:20:00|   News|     Nation|      []|            MELAKA|MELAKA: The histo...|[melaka, the, his...|[melaka, history,...|(262144,[4167,121...|(262144,[4167,121...|[-847.22956926516...|[0.80608090087414...|       0.0|       positive|\n",
      "|Viral message war...|https://www.thest...|johor baru johor ...|2021-11-24 21:47:00|   News|     Nation|      []|        JOHOR BARU|JOHOR BARU: Johor...|[johor, baru, joh...|[johor, baru, joh...|(262144,[3657,237...|(262144,[3657,237...|[-899.16168823094...|[0.18752790942076...|       1.0|       negative|\n",
      "|Masidi: Fleet of ...|https://www.thest...|kota kinabalu the...|2020-11-22 19:35:00|   News|     Nation|      []|     KOTA KINABALU|KOTA KINABALU: Th...|[kota, kinabalu, ...|[kota, kinabalu, ...|(262144,[1623,113...|(262144,[1623,113...|[-980.22355749680...|[0.99984318032158...|       0.0|       positive|\n",
      "|Customs foil atte...|https://www.thest...|port klang the ro...|2021-11-13 21:38:00|   News|     Nation|      []|        PORT KLANG|PORT KLANG: The R...|[port, klang, the...|[port, klang, roy...|(262144,[17821,19...|(262144,[17821,19...|[-1538.9807648676...|[5.54273509211616...|       1.0|       negative|\n",
      "|Scheduled water c...|https://www.thest...|kuala lumpur bern...|2020-11-24 22:03:00|   News|     Nation|      []|Location not found|KUALA LUMPUR (Ber...|[kuala, lumpur, b...|[kuala, lumpur, b...|(262144,[55875,60...|(262144,[55875,60...|[-836.88173585787...|[0.99941205525369...|       0.0|       positive|\n",
      "|Singapore to tigh...|https://www.thest...|singapore bernama...|2020-11-20 21:07:00|   News|     Nation|      []|Location not found|SINGAPORE (Bernam...|[singapore, berna...|[singapore, berna...|(262144,[7453,113...|(262144,[7453,113...|[-885.89157990712...|[0.14885897405247...|       2.0|        neutral|\n",
      "|Melaka polls: Per...|https://www.thest...|melaka perikatan ...|2021-11-14 19:59:00|   News|     Nation|      []|            MELAKA|MELAKA: Perikatan...|[melaka, perikata...|[melaka, perikata...|(262144,[1772,121...|(262144,[1772,121...|[-885.72104771383...|[0.10527281783406...|       1.0|       negative|\n",
      "|Kota Baru 'Gold r...|https://www.thest...|kota baru bernama...|2020-11-30 19:32:00|   News|     Nation|      []|Location not found|KOTA BARU (Bernam...|[kota, baru, bern...|[kota, baru, bern...|(262144,[14385,25...|(262144,[14385,25...|[-1405.5897386801...|[1.32525659372010...|       1.0|       negative|\n",
      "|Road rage: Fight ...|https://www.thest...|kuala lumpur an a...|2020-11-30 19:20:00|   News|     Nation|      []|      KUALA LUMPUR|KUALA LUMPUR: An ...|[kuala, lumpur, a...|[kuala, lumpur, a...|(262144,[2410,218...|(262144,[2410,218...|[-572.97771517153...|[1.84475333754885...|       1.0|       negative|\n",
      "|Covid-19: Sabah r...|https://www.thest...|putrajaya a man w...|2020-11-20 20:37:00|   News|     Nation|      []|         PUTRAJAYA|PUTRAJAYA: A man ...|[putrajaya, a, ma...|[putrajaya, man, ...|(262144,[26092,56...|(262144,[26092,56...|[-839.12511970915...|[0.99999999999380...|       0.0|       positive|\n",
      "|Over a million SM...|https://www.thest...|kuala lumpur the ...|2021-11-19 20:32:00|   News|     Nation|      []|      KUALA LUMPUR|KUALA LUMPUR: The...|[kuala, lumpur, t...|[kuala, lumpur, g...|(262144,[6298,157...|(262144,[6298,157...|[-1035.9244705743...|[0.99999999997204...|       0.0|       positive|\n",
      "|Sg Petani trader ...|https://www.thest...|sungai petani ber...|2020-11-22 23:07:00|   News|     Nation|      []|Location not found|SUNGAI PETANI (Be...|[sungai, petani, ...|[sungai, petani, ...|(262144,[16087,60...|(262144,[16087,60...|[-930.36709526142...|[0.00184079337251...|       1.0|       negative|\n",
      "|INTERACTIVE: Brea...|https://www.thest...|here are the key ...|2021-11-20 23:50:00|   News|     Nation|      []|     PETALING JAYA|PETALING JAYA: Me...|[here, are, the, ...|[key, facts, poll...|(262144,[85941,16...|(262144,[85941,16...|[-234.13353055004...|[0.82592659673302...|       0.0|       positive|\n",
      "|Covid-19: New cas...|https://www.thest...|kuala lumpur new ...|2021-12-01 20:06:00|   News|     Nation|      []|      KUALA LUMPUR|KUALA LUMPUR: New...|[kuala, lumpur, n...|[kuala, lumpur, n...|(262144,[11395,26...|(262144,[11395,26...|[-907.03220156541...|[2.54146445385293...|       1.0|       negative|\n",
      "|Letter purportedl...|https://www.thest...|petaling jaya a l...|2020-11-22 22:54:00|   News|     Nation|      []|     PETALING JAYA|PETALING JAYA: A ...|[petaling, jaya, ...|[petaling, jaya, ...|(262144,[2564,107...|(262144,[2564,107...|[-1353.9772392345...|[0.99996988883994...|       0.0|       positive|\n",
      "|Covid-19: About 3...|https://www.thest...|klang about nine ...|2020-11-23 23:36:00|   News|     Nation|      []|             KLANG|KLANG: About nine...|[klang, about, ni...|[klang, nine, bus...|(262144,[9129,181...|(262144,[9129,181...|[-1065.6166033477...|[0.99991984912631...|       0.0|       positive|\n",
      "+--------------------+--------------------+--------------------+-------------------+-------+-----------+--------+------------------+--------------------+--------------------+--------------------+--------------------+--------------------+--------------------+--------------------+----------+---------------+\n",
      "only showing top 20 rows\n",
      "\n",
      "Query is still running after timeout, stopping it now\n",
      "Query stopped\n"
     ]
    }
   ],
   "source": [
    "query = streamer.write_output_console(df_result)\n",
    "query.awaitTermination(60)\n",
    "\n",
    "if query or query.isActive:\n",
    "    print(\"Query is still running after timeout, stopping it now\")\n",
    "    query.stop()\n",
    "    print(\"Query stopped\")\n",
    "else:\n",
    "    print(\"Query terminated within the timeout period\")"
   ]
  },
  {
   "cell_type": "markdown",
   "id": "2cd520a4-fb87-4d90-bbd8-c450f04a2c2f",
   "metadata": {},
   "source": [
    "## Extra"
   ]
  },
  {
   "cell_type": "code",
   "execution_count": 17,
   "id": "64737c3d-3808-4903-a6b1-d8ce3b3e11c1",
   "metadata": {},
   "outputs": [
    {
     "name": "stderr",
     "output_type": "stream",
     "text": [
      "25/04/17 22:33:49 WARN ResolveWriteToStream: Temporary checkpoint location created which is deleted normally when the query didn't fail: /tmp/temporary-396698c0-8b22-4c96-8245-d8d724ae1d6b. If it's required to delete it under any circumstances, please set spark.sql.streaming.forceDeleteTempCheckpointLocation to true. Important to know deleting temp checkpoint folder is best effort.\n",
      "25/04/17 22:33:49 WARN ResolveWriteToStream: spark.sql.adaptive.enabled is not supported in streaming DataFrames/Datasets and will be disabled.\n",
      "25/04/17 22:33:49 WARN AdminClientConfig: These configurations '[key.deserializer, value.deserializer, enable.auto.commit, max.poll.records, auto.offset.reset]' were supplied but are not used yet.\n",
      "25/04/17 22:33:50 WARN DAGScheduler: Broadcasting large task binary with size 10.1 MiB\n",
      "                                                                                \r"
     ]
    },
    {
     "name": "stdout",
     "output_type": "stream",
     "text": [
      "-------------------------------------------\n",
      "Batch: 0\n",
      "-------------------------------------------\n",
      "+-----+----+-------+------------+-------+-----------+--------+--------+----+-----+--------------+------------+--------+-------------+-----------+----------+---------------+\n",
      "|title|link|summary|publish_time|section|sub_section|keywords|location|body|words|filtered_words|raw_features|features|rawPrediction|probability|prediction|predicted_label|\n",
      "+-----+----+-------+------------+-------+-----------+--------+--------+----+-----+--------------+------------+--------+-------------+-----------+----------+---------------+\n",
      "+-----+----+-------+------------+-------+-----------+--------+--------+----+-----+--------------+------------+--------+-------------+-----------+----------+---------------+\n",
      "\n"
     ]
    },
    {
     "data": {
      "text/plain": [
       "False"
      ]
     },
     "execution_count": 17,
     "metadata": {},
     "output_type": "execute_result"
    }
   ],
   "source": [
    "news_by_section = streamer.filter_by_sub_section(df_result, \"Aseanplus\")\n",
    "query = streamer.write_output_console(news_by_section)\n",
    "query.awaitTermination(60)\n"
   ]
  },
  {
   "cell_type": "code",
   "execution_count": 18,
   "id": "64c63963-9aef-4cb8-a344-46ff539836e8",
   "metadata": {},
   "outputs": [
    {
     "name": "stderr",
     "output_type": "stream",
     "text": [
      "25/04/17 22:34:49 WARN ResolveWriteToStream: Temporary checkpoint location created which is deleted normally when the query didn't fail: /tmp/temporary-6e136d96-0bdb-4e4b-8334-0e6df1ad287e. If it's required to delete it under any circumstances, please set spark.sql.streaming.forceDeleteTempCheckpointLocation to true. Important to know deleting temp checkpoint folder is best effort.\n",
      "25/04/17 22:34:49 WARN ResolveWriteToStream: spark.sql.adaptive.enabled is not supported in streaming DataFrames/Datasets and will be disabled.\n",
      "25/04/17 22:34:49 WARN AdminClientConfig: These configurations '[key.deserializer, value.deserializer, enable.auto.commit, max.poll.records, auto.offset.reset]' were supplied but are not used yet.\n",
      "25/04/17 22:34:50 WARN DAGScheduler: Broadcasting large task binary with size 10.1 MiB\n",
      "                                                                                \r"
     ]
    },
    {
     "name": "stdout",
     "output_type": "stream",
     "text": [
      "-------------------------------------------\n",
      "Batch: 0\n",
      "-------------------------------------------\n",
      "+--------------------+--------------------+--------------------+-------------------+-------+-----------+--------+------------------+--------------------+--------------------+--------------------+--------------------+--------------------+--------------------+--------------------+----------+---------------+\n",
      "|               title|                link|             summary|       publish_time|section|sub_section|keywords|          location|                body|               words|      filtered_words|        raw_features|            features|       rawPrediction|         probability|prediction|predicted_label|\n",
      "+--------------------+--------------------+--------------------+-------------------+-------+-----------+--------+------------------+--------------------+--------------------+--------------------+--------------------+--------------------+--------------------+--------------------+----------+---------------+\n",
      "|Covid-19: Four ne...|https://www.thest...|petaling jaya fou...|2020-11-23 20:11:00|   News|     Nation|      []|     PETALING JAYA|PETALING JAYA: Fo...|[petaling, jaya, ...|[petaling, jaya, ...|(262144,[11395,62...|(262144,[11395,62...|[-833.13417677022...|[0.99997228202386...|       0.0|       positive|\n",
      "|Melaka Polls: Peo...|https://www.thest...|melaka the histor...|2021-11-13 19:20:00|   News|     Nation|      []|            MELAKA|MELAKA: The histo...|[melaka, the, his...|[melaka, history,...|(262144,[4167,121...|(262144,[4167,121...|[-847.22956926516...|[0.80608090087414...|       0.0|       positive|\n",
      "|Masidi: Fleet of ...|https://www.thest...|kota kinabalu the...|2020-11-22 19:35:00|   News|     Nation|      []|     KOTA KINABALU|KOTA KINABALU: Th...|[kota, kinabalu, ...|[kota, kinabalu, ...|(262144,[1623,113...|(262144,[1623,113...|[-980.22355749680...|[0.99984318032158...|       0.0|       positive|\n",
      "|Scheduled water c...|https://www.thest...|kuala lumpur bern...|2020-11-24 22:03:00|   News|     Nation|      []|Location not found|KUALA LUMPUR (Ber...|[kuala, lumpur, b...|[kuala, lumpur, b...|(262144,[55875,60...|(262144,[55875,60...|[-836.88173585787...|[0.99941205525369...|       0.0|       positive|\n",
      "|Covid-19: Sabah r...|https://www.thest...|putrajaya a man w...|2020-11-20 20:37:00|   News|     Nation|      []|         PUTRAJAYA|PUTRAJAYA: A man ...|[putrajaya, a, ma...|[putrajaya, man, ...|(262144,[26092,56...|(262144,[26092,56...|[-839.12511970915...|[0.99999999999380...|       0.0|       positive|\n",
      "|Over a million SM...|https://www.thest...|kuala lumpur the ...|2021-11-19 20:32:00|   News|     Nation|      []|      KUALA LUMPUR|KUALA LUMPUR: The...|[kuala, lumpur, t...|[kuala, lumpur, g...|(262144,[6298,157...|(262144,[6298,157...|[-1035.9244705743...|[0.99999999997204...|       0.0|       positive|\n",
      "|INTERACTIVE: Brea...|https://www.thest...|here are the key ...|2021-11-20 23:50:00|   News|     Nation|      []|     PETALING JAYA|PETALING JAYA: Me...|[here, are, the, ...|[key, facts, poll...|(262144,[85941,16...|(262144,[85941,16...|[-234.13353055004...|[0.82592659673302...|       0.0|       positive|\n",
      "|Letter purportedl...|https://www.thest...|petaling jaya a l...|2020-11-22 22:54:00|   News|     Nation|      []|     PETALING JAYA|PETALING JAYA: A ...|[petaling, jaya, ...|[petaling, jaya, ...|(262144,[2564,107...|(262144,[2564,107...|[-1353.9772392345...|[0.99996988883994...|       0.0|       positive|\n",
      "|Covid-19: About 3...|https://www.thest...|klang about nine ...|2020-11-23 23:36:00|   News|     Nation|      []|             KLANG|KLANG: About nine...|[klang, about, ni...|[klang, nine, bus...|(262144,[9129,181...|(262144,[9129,181...|[-1065.6166033477...|[0.99991984912631...|       0.0|       positive|\n",
      "|King and Queen ex...|https://www.thest...|kuala lumpur bern...|2020-11-16 23:41:00|   News|     Nation|      []|Location not found|KUALA LUMPUR (Ber...|[kuala, lumpur, b...|[kuala, lumpur, b...|(262144,[24518,30...|(262144,[24518,30...|[-1616.9754800342...|[0.99999999998704...|       0.0|       positive|\n",
      "|Shahidan announce...|https://www.thest...|petaling jaya fri...|2021-12-01 19:22:00|   News|     Nation|      []|     PETALING JAYA|PETALING JAYA: Fr...|[petaling, jaya, ...|[petaling, jaya, ...|(262144,[30708,44...|(262144,[30708,44...|[-615.63673554748...|[0.99688829879336...|       0.0|       positive|\n",
      "|Pontian Civil Def...|https://www.thest...|pontian the civil...|2020-11-17 20:29:00|   News|     Nation|      []|           PONTIAN|PONTIAN: The Civi...|[pontian, the, ci...|[pontian, civil, ...|(262144,[40270,47...|(262144,[40270,47...|[-954.68792626217...|[0.99999987505694...|       0.0|       positive|\n",
      "|Covid-19: M'sian ...|https://www.thest...|kuala lumpur bern...|2020-11-23 20:45:00|   News|     Nation|      []|Location not found|KUALA LUMPUR (Ber...|[kuala, lumpur, b...|[kuala, lumpur, b...|(262144,[11395,12...|(262144,[11395,12...|[-950.60974613266...|[0.99478733652443...|       0.0|       positive|\n",
      "|PM: Advancing gre...|https://www.thest...|kuala lumpur adva...|2021-11-25 21:15:00|   News|     Nation|      []|      KUALA LUMPUR|KUALA LUMPUR: Adv...|[kuala, lumpur, a...|[kuala, lumpur, a...|(262144,[3968,107...|(262144,[3968,107...|[-942.36951951375...|[0.99999999999999...|       0.0|       positive|\n",
      "|Father sets up da...|https://www.thest...|tanah merah berna...|2020-11-29 22:44:00|   News|     Nation|      []|Location not found|TANAH MERAH (Bern...|[tanah, merah, be...|[tanah, merah, be...|(262144,[4106,181...|(262144,[4106,181...|[-1143.4787784599...|[1.0,2.8930789513...|       0.0|       positive|\n",
      "|Muhyiddin: Celebr...|https://www.thest...|kuala lumpur bern...|2020-11-13 23:15:00|   News|     Nation|      []|Location not found|KUALA LUMPUR (Ber...|[kuala, lumpur, b...|[kuala, lumpur, b...|(262144,[11395,15...|(262144,[11395,15...|[-1542.2845890992...|[0.99999999999999...|       0.0|       positive|\n",
      "|Several areas in ...|https://www.thest...|kuala lumpur seve...|2021-11-22 22:36:00|   News|     Nation|      []|      KUALA LUMPUR|KUALA LUMPUR: Sev...|[kuala, lumpur, s...|[kuala, lumpur, s...|(262144,[1797,196...|(262144,[1797,196...|[-817.19738063162...|[0.99983967962100...|       0.0|       positive|\n",
      "|Pejuang info chie...|https://www.thest...|petaling jaya par...|2020-11-29 18:48:00|   News|     Nation|      []|     PETALING JAYA|PETALING JAYA: Pa...|[petaling, jaya, ...|[petaling, jaya, ...|(262144,[3524,880...|(262144,[3524,880...|[-1182.6235100109...|[0.99643387529214...|       0.0|       positive|\n",
      "|Najib, Rosmah mee...|https://www.thest...|petaling jaya for...|2021-12-01 20:10:00|   News|     Nation|      []|     PETALING JAYA|PETALING JAYA: Fo...|[petaling, jaya, ...|[petaling, jaya, ...|(262144,[10723,15...|(262144,[10723,15...|[-1168.4453148994...|[0.99923514775025...|       0.0|       positive|\n",
      "|Ongkili: Better d...|https://www.thest...|kota kinabalu bet...|2021-11-22 21:16:00|   News|     Nation|      []|     KOTA KINABALU|KOTA KINABALU: Be...|[kota, kinabalu, ...|[kota, kinabalu, ...|(262144,[1096,205...|(262144,[1096,205...|[-707.37259618286...|[0.99998863164161...|       0.0|       positive|\n",
      "+--------------------+--------------------+--------------------+-------------------+-------+-----------+--------+------------------+--------------------+--------------------+--------------------+--------------------+--------------------+--------------------+--------------------+----------+---------------+\n",
      "only showing top 20 rows\n",
      "\n"
     ]
    },
    {
     "data": {
      "text/plain": [
       "False"
      ]
     },
     "execution_count": 18,
     "metadata": {},
     "output_type": "execute_result"
    }
   ],
   "source": [
    "positive_news = streamer.filter_by_sentiment(df_result, \"positive\")\n",
    "query = streamer.write_output_console(positive_news)\n",
    "query.awaitTermination(60)\n"
   ]
  },
  {
   "cell_type": "code",
   "execution_count": 19,
   "id": "55217aaf-4ca7-42e0-9d49-25098d7f5113",
   "metadata": {},
   "outputs": [
    {
     "name": "stderr",
     "output_type": "stream",
     "text": [
      "25/04/17 22:35:49 WARN ResolveWriteToStream: Temporary checkpoint location created which is deleted normally when the query didn't fail: /tmp/temporary-fe9f3c12-9cf8-42db-a9d4-5effb7ada127. If it's required to delete it under any circumstances, please set spark.sql.streaming.forceDeleteTempCheckpointLocation to true. Important to know deleting temp checkpoint folder is best effort.\n",
      "25/04/17 22:35:49 WARN ResolveWriteToStream: spark.sql.adaptive.enabled is not supported in streaming DataFrames/Datasets and will be disabled.\n",
      "25/04/17 22:35:49 WARN AdminClientConfig: These configurations '[key.deserializer, value.deserializer, enable.auto.commit, max.poll.records, auto.offset.reset]' were supplied but are not used yet.\n",
      "25/04/17 22:35:50 WARN DAGScheduler: Broadcasting large task binary with size 10.1 MiB\n",
      "                                                                                \r"
     ]
    },
    {
     "name": "stdout",
     "output_type": "stream",
     "text": [
      "-------------------------------------------\n",
      "Batch: 0\n",
      "-------------------------------------------\n",
      "+-----+----+-------+------------+-------+-----------+--------+--------+----+-----+--------------+------------+--------+-------------+-----------+----------+---------------+\n",
      "|title|link|summary|publish_time|section|sub_section|keywords|location|body|words|filtered_words|raw_features|features|rawPrediction|probability|prediction|predicted_label|\n",
      "+-----+----+-------+------------+-------+-----------+--------+--------+----+-----+--------------+------------+--------+-------------+-----------+----------+---------------+\n",
      "+-----+----+-------+------------+-------+-----------+--------+--------+----+-----+--------------+------------+--------+-------------+-----------+----------+---------------+\n",
      "\n"
     ]
    },
    {
     "data": {
      "text/plain": [
       "False"
      ]
     },
     "execution_count": 19,
     "metadata": {},
     "output_type": "execute_result"
    }
   ],
   "source": [
    "date_filtered_news = streamer.filter_by_date(\n",
    "    df_result,\n",
    "    \"2025-03-01 00:00:00\",\n",
    "    \"2025-03-31 23:59:59\"\n",
    ")\n",
    "query = streamer.write_output_console(date_filtered_news)\n",
    "query.awaitTermination(60)\n"
   ]
  },
  {
   "cell_type": "code",
   "execution_count": 20,
   "id": "2a0c9a44-b55f-41b6-a1b3-c273e75f99d2",
   "metadata": {},
   "outputs": [
    {
     "name": "stderr",
     "output_type": "stream",
     "text": [
      "25/04/17 22:36:49 WARN ResolveWriteToStream: Temporary checkpoint location created which is deleted normally when the query didn't fail: /tmp/temporary-40bf84f5-c654-4b5c-9f41-214340211ea4. If it's required to delete it under any circumstances, please set spark.sql.streaming.forceDeleteTempCheckpointLocation to true. Important to know deleting temp checkpoint folder is best effort.\n",
      "25/04/17 22:36:49 WARN ResolveWriteToStream: spark.sql.adaptive.enabled is not supported in streaming DataFrames/Datasets and will be disabled.\n",
      "25/04/17 22:36:49 WARN AdminClientConfig: These configurations '[key.deserializer, value.deserializer, enable.auto.commit, max.poll.records, auto.offset.reset]' were supplied but are not used yet.\n",
      "25/04/17 22:36:50 WARN DAGScheduler: Broadcasting large task binary with size 10.1 MiB\n",
      "                                                                                \r"
     ]
    },
    {
     "name": "stdout",
     "output_type": "stream",
     "text": [
      "-------------------------------------------\n",
      "Batch: 0\n",
      "-------------------------------------------\n",
      "+--------------------+------------------+----------+\n",
      "|               title|          location|prediction|\n",
      "+--------------------+------------------+----------+\n",
      "|Covid-19: Four ne...|     PETALING JAYA|       0.0|\n",
      "|Over 3,400 arrest...|            MELAKA|       1.0|\n",
      "|JPJ to conduct Op...|         PUTRAJAYA|       2.0|\n",
      "|Delay in ratifyin...|      KUALA LUMPUR|       1.0|\n",
      "|Melaka Polls: Peo...|            MELAKA|       0.0|\n",
      "|Viral message war...|        JOHOR BARU|       1.0|\n",
      "|Masidi: Fleet of ...|     KOTA KINABALU|       0.0|\n",
      "|Customs foil atte...|        PORT KLANG|       1.0|\n",
      "|Scheduled water c...|Location not found|       0.0|\n",
      "|Singapore to tigh...|Location not found|       2.0|\n",
      "|Melaka polls: Per...|            MELAKA|       1.0|\n",
      "|Kota Baru 'Gold r...|Location not found|       1.0|\n",
      "|Road rage: Fight ...|      KUALA LUMPUR|       1.0|\n",
      "|Covid-19: Sabah r...|         PUTRAJAYA|       0.0|\n",
      "|Over a million SM...|      KUALA LUMPUR|       0.0|\n",
      "|Sg Petani trader ...|Location not found|       1.0|\n",
      "|INTERACTIVE: Brea...|     PETALING JAYA|       0.0|\n",
      "|Covid-19: New cas...|      KUALA LUMPUR|       1.0|\n",
      "|Letter purportedl...|     PETALING JAYA|       0.0|\n",
      "|Covid-19: About 3...|             KLANG|       0.0|\n",
      "+--------------------+------------------+----------+\n",
      "only showing top 20 rows\n",
      "\n"
     ]
    },
    {
     "data": {
      "text/plain": [
       "False"
      ]
     },
     "execution_count": 20,
     "metadata": {},
     "output_type": "execute_result"
    }
   ],
   "source": [
    "selected = streamer.select_columns(df_result, [\"title\", \"location\", \"prediction\"])\n",
    "query = streamer.write_output_console(selected)\n",
    "query.awaitTermination(60)"
   ]
  },
  {
   "cell_type": "code",
   "execution_count": 21,
   "id": "0529c03b-0d2c-415e-89e7-3174d0a5c0de",
   "metadata": {},
   "outputs": [
    {
     "name": "stderr",
     "output_type": "stream",
     "text": [
      "25/04/17 22:37:49 WARN ResolveWriteToStream: Temporary checkpoint location created which is deleted normally when the query didn't fail: /tmp/temporary-c59c6503-7519-4113-94e6-eac5cc1a976e. If it's required to delete it under any circumstances, please set spark.sql.streaming.forceDeleteTempCheckpointLocation to true. Important to know deleting temp checkpoint folder is best effort.\n",
      "25/04/17 22:37:49 WARN ResolveWriteToStream: spark.sql.adaptive.enabled is not supported in streaming DataFrames/Datasets and will be disabled.\n",
      "25/04/17 22:37:49 WARN AdminClientConfig: These configurations '[key.deserializer, value.deserializer, enable.auto.commit, max.poll.records, auto.offset.reset]' were supplied but are not used yet.\n",
      "                                                                                \r"
     ]
    },
    {
     "name": "stdout",
     "output_type": "stream",
     "text": [
      "-------------------------------------------\n",
      "Batch: 0\n",
      "-------------------------------------------\n",
      "+--------------+----------+\n",
      "|      location|news_count|\n",
      "+--------------+----------+\n",
      "|          IPOH|        12|\n",
      "|          SIBU|         1|\n",
      "|   BUTTERWORTH|         1|\n",
      "|        KAJANG|         1|\n",
      "|       BEIJING|         1|\n",
      "|        LABUAN|         1|\n",
      "|  SUNGAI SIPUT|         1|\n",
      "|         MARAN|         1|\n",
      "|         KLANG|         4|\n",
      "|BUKIT MERTAJAM|         2|\n",
      "|     PUTRAJAYA|        27|\n",
      "|   KOTA TINGGI|         4|\n",
      "|    BATU PAHAT|         2|\n",
      "|         KULIM|         1|\n",
      "|      SEREMBAN|         2|\n",
      "|    JOHOR BARU|        18|\n",
      "|         KAPAR|         1|\n",
      "|  PORT DICKSON|         1|\n",
      "|        RAWANG|         1|\n",
      "|     SHAH ALAM|         2|\n",
      "+--------------+----------+\n",
      "only showing top 20 rows\n",
      "\n"
     ]
    },
    {
     "data": {
      "text/plain": [
       "False"
      ]
     },
     "execution_count": 21,
     "metadata": {},
     "output_type": "execute_result"
    }
   ],
   "source": [
    "location_agg = streamer.aggregate_by_location(df_result)\n",
    "query = streamer.write_output_console(location_agg, output_mode = \"complete\")\n",
    "query.awaitTermination(60)"
   ]
  },
  {
   "cell_type": "code",
   "execution_count": 22,
   "id": "43e1254e-cb2f-4653-bd43-5b1a756917da",
   "metadata": {},
   "outputs": [
    {
     "name": "stderr",
     "output_type": "stream",
     "text": [
      "25/04/17 22:38:49 WARN ResolveWriteToStream: Temporary checkpoint location created which is deleted normally when the query didn't fail: /tmp/temporary-fac72768-7b31-4300-80cf-7d6ee828e57b. If it's required to delete it under any circumstances, please set spark.sql.streaming.forceDeleteTempCheckpointLocation to true. Important to know deleting temp checkpoint folder is best effort.\n",
      "25/04/17 22:38:49 WARN ResolveWriteToStream: spark.sql.adaptive.enabled is not supported in streaming DataFrames/Datasets and will be disabled.\n",
      "25/04/17 22:38:49 WARN AdminClientConfig: These configurations '[key.deserializer, value.deserializer, enable.auto.commit, max.poll.records, auto.offset.reset]' were supplied but are not used yet.\n",
      "                                                                                \r"
     ]
    },
    {
     "name": "stdout",
     "output_type": "stream",
     "text": [
      "-------------------------------------------\n",
      "Batch: 0\n",
      "-------------------------------------------\n",
      "+-------+----------+\n",
      "|section|news_count|\n",
      "+-------+----------+\n",
      "|   News|       400|\n",
      "+-------+----------+\n",
      "\n"
     ]
    },
    {
     "data": {
      "text/plain": [
       "False"
      ]
     },
     "execution_count": 22,
     "metadata": {},
     "output_type": "execute_result"
    }
   ],
   "source": [
    "section_agg = streamer.aggregate_by_section(df_result)\n",
    "query = streamer.write_output_console(section_agg, output_mode = \"complete\")\n",
    "query.awaitTermination(60)"
   ]
  },
  {
   "cell_type": "code",
   "execution_count": 23,
   "id": "ade4875e-4436-4a49-b227-2279fb47b5e1",
   "metadata": {},
   "outputs": [
    {
     "name": "stderr",
     "output_type": "stream",
     "text": [
      "25/04/17 22:39:49 WARN ResolveWriteToStream: Temporary checkpoint location created which is deleted normally when the query didn't fail: /tmp/temporary-73b25398-416c-406b-a277-a6304a817aa6. If it's required to delete it under any circumstances, please set spark.sql.streaming.forceDeleteTempCheckpointLocation to true. Important to know deleting temp checkpoint folder is best effort.\n",
      "25/04/17 22:39:49 WARN ResolveWriteToStream: spark.sql.adaptive.enabled is not supported in streaming DataFrames/Datasets and will be disabled.\n",
      "25/04/17 22:39:49 WARN AdminClientConfig: These configurations '[key.deserializer, value.deserializer, enable.auto.commit, max.poll.records, auto.offset.reset]' were supplied but are not used yet.\n",
      "25/04/17 22:39:51 WARN DAGScheduler: Broadcasting large task binary with size 10.1 MiB\n",
      "25/04/17 22:39:56 WARN DAGScheduler: Broadcasting large task binary with size 10.1 MiB\n",
      "                                                                                \r"
     ]
    },
    {
     "name": "stdout",
     "output_type": "stream",
     "text": [
      "-------------------------------------------\n",
      "Batch: 0\n",
      "-------------------------------------------\n",
      "+------+---------------+-----+\n",
      "|window|predicted_label|count|\n",
      "+------+---------------+-----+\n",
      "+------+---------------+-----+\n",
      "\n"
     ]
    },
    {
     "name": "stderr",
     "output_type": "stream",
     "text": [
      "25/04/17 22:40:02 WARN DAGScheduler: Broadcasting large task binary with size 10.1 MiB\n",
      "25/04/17 22:40:06 WARN DAGScheduler: Broadcasting large task binary with size 10.1 MiB\n",
      "                                                                                \r"
     ]
    },
    {
     "name": "stdout",
     "output_type": "stream",
     "text": [
      "-------------------------------------------\n",
      "Batch: 1\n",
      "-------------------------------------------\n",
      "+--------------------+---------------+-----+\n",
      "|              window|predicted_label|count|\n",
      "+--------------------+---------------+-----+\n",
      "|{2020-12-01 21:05...|       positive|    1|\n",
      "|{2020-11-27 19:40...|       positive|    2|\n",
      "|{2021-11-28 22:20...|       positive|    2|\n",
      "|{2020-11-14 18:55...|       positive|    1|\n",
      "|{2020-11-16 21:50...|       positive|    1|\n",
      "|{2020-11-30 21:00...|       positive|    1|\n",
      "|{2021-11-16 20:50...|       positive|    1|\n",
      "|{2020-11-24 19:45...|       positive|    1|\n",
      "|{2020-11-14 18:20...|       negative|    1|\n",
      "|{2021-11-29 22:25...|       positive|    1|\n",
      "|{2021-11-12 23:05...|       positive|    1|\n",
      "|{2020-11-15 21:30...|       positive|    1|\n",
      "|{2020-11-17 20:50...|       positive|    1|\n",
      "|{2021-11-14 21:10...|       positive|    1|\n",
      "|{2020-12-01 22:40...|       positive|    1|\n",
      "|{2021-11-16 20:15...|       positive|    1|\n",
      "|{2021-11-24 19:30...|       positive|    1|\n",
      "|{2021-11-19 19:50...|       positive|    1|\n",
      "|{2021-11-24 19:40...|       negative|    2|\n",
      "|{2020-11-22 23:00...|       negative|    1|\n",
      "+--------------------+---------------+-----+\n",
      "only showing top 20 rows\n",
      "\n"
     ]
    },
    {
     "data": {
      "text/plain": [
       "False"
      ]
     },
     "execution_count": 23,
     "metadata": {},
     "output_type": "execute_result"
    }
   ],
   "source": [
    "from pyspark.sql.functions import to_timestamp\n",
    "\n",
    "# Convert publish_time to timestamp for windowing\n",
    "structured_df = df_result.withColumn(\"publish_time\", to_timestamp(\"publish_time\"))\n",
    "\n",
    "sentiment_windowed = streamer.windowed_sentiment_count(\n",
    "    structured_df,\n",
    "    window_duration=\"10 minutes\",\n",
    "    slide_duration=\"5 minutes\"\n",
    ")\n",
    "\n",
    "query = streamer.write_output_console(sentiment_windowed)\n",
    "query.awaitTermination(60)"
   ]
  }
 ],
 "metadata": {
  "kernelspec": {
   "display_name": "de-venv",
   "language": "python",
   "name": "de-venv"
  },
  "language_info": {
   "codemirror_mode": {
    "name": "ipython",
    "version": 3
   },
   "file_extension": ".py",
   "mimetype": "text/x-python",
   "name": "python",
   "nbconvert_exporter": "python",
   "pygments_lexer": "ipython3",
   "version": "3.10.12"
  }
 },
 "nbformat": 4,
 "nbformat_minor": 5
}
